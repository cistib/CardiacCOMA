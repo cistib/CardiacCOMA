{
 "cells": [
  {
   "cell_type": "code",
   "execution_count": 1,
   "id": "2722d130",
   "metadata": {},
   "outputs": [],
   "source": [
    "CARDIAC_COMA_REPO = \"/home/rodrigo/CISTIB/repos/CardiacCOMA/\""
   ]
  },
  {
   "cell_type": "code",
   "execution_count": 2,
   "id": "88d6aaa2",
   "metadata": {},
   "outputs": [],
   "source": [
    "import mlflow\n",
    "import os, sys\n",
    "\n",
    "import torch\n",
    "import torch.nn.functional as F\n",
    "\n",
    "import os; os.chdir(CARDIAC_COMA_REPO)\n",
    "from config.load_config import load_yaml_config, to_dict\n",
    "\n",
    "import ipywidgets as widgets\n",
    "from ipywidgets import interact\n",
    "from IPython.display import Image\n",
    "from mlflow.tracking import MlflowClient\n",
    "\n",
    "import pickle as pkl\n",
    "import pytorch_lightning as pl\n",
    "\n",
    "from argparse import Namespace\n",
    "import matplotlib.pyplot as plt\n",
    "\n",
    "#import surgeon_pytorch\n",
    "#from surgeon_pytorch import Inspect, get_layers\n",
    "\n",
    "import numpy as np\n",
    "import pandas as pd\n",
    "from IPython import embed\n",
    "sys.path.insert(0, '..')\n",
    "\n",
    "import model.Model3D\n",
    "from utils.helpers import get_coma_args, get_lightning_module, get_datamodule\n",
    "from copy import deepcopy\n",
    "from pprint import pprint\n",
    "\n",
    "from copy import deepcopy\n",
    "from typing import List"
   ]
  },
  {
   "cell_type": "code",
   "execution_count": 3,
   "id": "c780652c",
   "metadata": {},
   "outputs": [],
   "source": [
    "from mlflow_helpers import \\\n",
    "    list_artifacts,\\\n",
    "    get_significant_loci,\\\n",
    "    get_metrics_cols, \\\n",
    "    get_params_cols, \\\n",
    "    get_runs_df, \\\n",
    "    get_good_runs,\\\n",
    "    summarize_loci_across_runs,\\\n",
    "    get_model_pretrained_weights"
   ]
  },
  {
   "cell_type": "code",
   "execution_count": 4,
   "id": "a5bad359",
   "metadata": {},
   "outputs": [],
   "source": [
    "TRACKING_URI = f\"file://{CARDIAC_COMA_REPO}/mlruns\"\n",
    "mlflow.set_tracking_uri(TRACKING_URI)"
   ]
  },
  {
   "cell_type": "code",
   "execution_count": 5,
   "id": "8555ccf7",
   "metadata": {},
   "outputs": [],
   "source": [
    "client = MlflowClient()"
   ]
  },
  {
   "cell_type": "markdown",
   "id": "af92fffe",
   "metadata": {},
   "source": [
    "### Retrieve cardiac indices"
   ]
  },
  {
   "cell_type": "code",
   "execution_count": 6,
   "id": "b1601cd0",
   "metadata": {},
   "outputs": [],
   "source": [
    "timeframe = \"1\".zfill(3)\n",
    "datafolder = \"data/cardio/cardiac_indices\""
   ]
  },
  {
   "cell_type": "code",
   "execution_count": 7,
   "id": "d1370711",
   "metadata": {},
   "outputs": [],
   "source": [
    "df = pd.concat([pd.read_csv(f\"{datafolder}/G{i}/LVRV_time{timeframe}.csv\", index_col=\"case_id\") for i in range(1,5)])"
   ]
  },
  {
   "cell_type": "code",
   "execution_count": 8,
   "id": "5e0d6851",
   "metadata": {},
   "outputs": [
    {
     "data": {
      "text/html": [
       "<div>\n",
       "<style scoped>\n",
       "    .dataframe tbody tr th:only-of-type {\n",
       "        vertical-align: middle;\n",
       "    }\n",
       "\n",
       "    .dataframe tbody tr th {\n",
       "        vertical-align: top;\n",
       "    }\n",
       "\n",
       "    .dataframe thead th {\n",
       "        text-align: right;\n",
       "    }\n",
       "</style>\n",
       "<table border=\"1\" class=\"dataframe\">\n",
       "  <thead>\n",
       "    <tr style=\"text-align: right;\">\n",
       "      <th></th>\n",
       "      <th>LVEDV (mL)</th>\n",
       "      <th>LVM (g)</th>\n",
       "      <th>RVEDV (mL)</th>\n",
       "    </tr>\n",
       "    <tr>\n",
       "      <th>case_id</th>\n",
       "      <th></th>\n",
       "      <th></th>\n",
       "      <th></th>\n",
       "    </tr>\n",
       "  </thead>\n",
       "  <tbody>\n",
       "    <tr>\n",
       "      <th>1575594</th>\n",
       "      <td>169.515362</td>\n",
       "      <td>96.505318</td>\n",
       "      <td>203.963810</td>\n",
       "    </tr>\n",
       "    <tr>\n",
       "      <th>1982723</th>\n",
       "      <td>113.870137</td>\n",
       "      <td>62.877573</td>\n",
       "      <td>121.807408</td>\n",
       "    </tr>\n",
       "    <tr>\n",
       "      <th>1070966</th>\n",
       "      <td>131.174275</td>\n",
       "      <td>72.171091</td>\n",
       "      <td>137.144004</td>\n",
       "    </tr>\n",
       "    <tr>\n",
       "      <th>1851234</th>\n",
       "      <td>156.977255</td>\n",
       "      <td>92.898278</td>\n",
       "      <td>178.114947</td>\n",
       "    </tr>\n",
       "    <tr>\n",
       "      <th>1752613</th>\n",
       "      <td>119.700546</td>\n",
       "      <td>94.632015</td>\n",
       "      <td>141.645332</td>\n",
       "    </tr>\n",
       "    <tr>\n",
       "      <th>...</th>\n",
       "      <td>...</td>\n",
       "      <td>...</td>\n",
       "      <td>...</td>\n",
       "    </tr>\n",
       "    <tr>\n",
       "      <th>4542967</th>\n",
       "      <td>151.443686</td>\n",
       "      <td>89.504582</td>\n",
       "      <td>154.916932</td>\n",
       "    </tr>\n",
       "    <tr>\n",
       "      <th>4199605</th>\n",
       "      <td>147.178375</td>\n",
       "      <td>107.944423</td>\n",
       "      <td>144.030801</td>\n",
       "    </tr>\n",
       "    <tr>\n",
       "      <th>4934524</th>\n",
       "      <td>170.701413</td>\n",
       "      <td>102.833356</td>\n",
       "      <td>179.698969</td>\n",
       "    </tr>\n",
       "    <tr>\n",
       "      <th>4702584</th>\n",
       "      <td>188.483348</td>\n",
       "      <td>114.173266</td>\n",
       "      <td>201.830631</td>\n",
       "    </tr>\n",
       "    <tr>\n",
       "      <th>4251655</th>\n",
       "      <td>139.023848</td>\n",
       "      <td>97.422363</td>\n",
       "      <td>149.993902</td>\n",
       "    </tr>\n",
       "  </tbody>\n",
       "</table>\n",
       "<p>36048 rows × 3 columns</p>\n",
       "</div>"
      ],
      "text/plain": [
       "         LVEDV (mL)     LVM (g)  RVEDV (mL)\n",
       "case_id                                    \n",
       "1575594  169.515362   96.505318  203.963810\n",
       "1982723  113.870137   62.877573  121.807408\n",
       "1070966  131.174275   72.171091  137.144004\n",
       "1851234  156.977255   92.898278  178.114947\n",
       "1752613  119.700546   94.632015  141.645332\n",
       "...             ...         ...         ...\n",
       "4542967  151.443686   89.504582  154.916932\n",
       "4199605  147.178375  107.944423  144.030801\n",
       "4934524  170.701413  102.833356  179.698969\n",
       "4702584  188.483348  114.173266  201.830631\n",
       "4251655  139.023848   97.422363  149.993902\n",
       "\n",
       "[36048 rows x 3 columns]"
      ]
     },
     "execution_count": 8,
     "metadata": {},
     "output_type": "execute_result"
    }
   ],
   "source": [
    "df"
   ]
  },
  {
   "cell_type": "markdown",
   "id": "d21d5d80",
   "metadata": {},
   "source": [
    "### Compute sphericity"
   ]
  },
  {
   "cell_type": "code",
   "execution_count": 9,
   "id": "b06b341d",
   "metadata": {},
   "outputs": [],
   "source": [
    "import scipy\n",
    "import math\n",
    "import pandas as pd\n",
    "import os\n",
    "import shlex\n",
    "from subprocess import check_output\n",
    "\n",
    "from scipy.spatial import ConvexHull\n",
    "\n",
    "import numpy as np\n",
    "import pickle as pkl\n",
    "\n",
    "import pyvista as pv\n",
    "from ipywidgets import interact, interactive, fixed, interact_manual"
   ]
  },
  {
   "cell_type": "code",
   "execution_count": 88,
   "id": "d5f98094",
   "metadata": {},
   "outputs": [],
   "source": [
    "# meshes = pkl.load(open(\"data/cardio/LV_meshes_at_ED_35k.pkl\", \"rb\"))\n",
    "# convhull = {}\n",
    "# for i, (id, mesh) in enumerate(meshes.items()):\n",
    "#     if i % 1000 == 0:\n",
    "#         print(i)\n",
    "#     convhull[id] = ConvexHull(mesh)"
   ]
  },
  {
   "cell_type": "code",
   "execution_count": 11,
   "id": "82f7133a",
   "metadata": {},
   "outputs": [],
   "source": [
    "def sphericity_index(convex_hull):\n",
    "    return((36 * math.pi * convex_hull.volume**2)**(1./3) / convex_hull.area)"
   ]
  },
  {
   "cell_type": "code",
   "execution_count": 12,
   "id": "30f76db3",
   "metadata": {},
   "outputs": [],
   "source": [
    "sph_df = pd.read_csv(\"data/cardio/sphericity.csv\")"
   ]
  },
  {
   "cell_type": "code",
   "execution_count": 13,
   "id": "2cd5561a",
   "metadata": {},
   "outputs": [],
   "source": [
    "df.index = df.index.astype(str)\n",
    "sph_df = sph_df.set_index(\"id\")\n",
    "sph_df.index = sph_df.index.astype(str)"
   ]
  },
  {
   "cell_type": "code",
   "execution_count": 14,
   "id": "47414a28",
   "metadata": {},
   "outputs": [],
   "source": [
    "cardiac_indices_df = df.merge(sph_df, left_index=True, right_index=True)"
   ]
  },
  {
   "cell_type": "code",
   "execution_count": 15,
   "id": "2fac813c",
   "metadata": {},
   "outputs": [
    {
     "data": {
      "text/html": [
       "<div>\n",
       "<style scoped>\n",
       "    .dataframe tbody tr th:only-of-type {\n",
       "        vertical-align: middle;\n",
       "    }\n",
       "\n",
       "    .dataframe tbody tr th {\n",
       "        vertical-align: top;\n",
       "    }\n",
       "\n",
       "    .dataframe thead th {\n",
       "        text-align: right;\n",
       "    }\n",
       "</style>\n",
       "<table border=\"1\" class=\"dataframe\">\n",
       "  <thead>\n",
       "    <tr style=\"text-align: right;\">\n",
       "      <th></th>\n",
       "      <th>LVEDV (mL)</th>\n",
       "      <th>LVM (g)</th>\n",
       "      <th>RVEDV (mL)</th>\n",
       "      <th>LVSph</th>\n",
       "    </tr>\n",
       "  </thead>\n",
       "  <tbody>\n",
       "    <tr>\n",
       "      <th>1000215</th>\n",
       "      <td>109.544212</td>\n",
       "      <td>70.061720</td>\n",
       "      <td>118.586674</td>\n",
       "      <td>0.945627</td>\n",
       "    </tr>\n",
       "    <tr>\n",
       "      <th>1000336</th>\n",
       "      <td>123.185025</td>\n",
       "      <td>73.821846</td>\n",
       "      <td>121.557099</td>\n",
       "      <td>0.935885</td>\n",
       "    </tr>\n",
       "    <tr>\n",
       "      <th>1000363</th>\n",
       "      <td>172.502476</td>\n",
       "      <td>136.292264</td>\n",
       "      <td>188.630958</td>\n",
       "      <td>0.939892</td>\n",
       "    </tr>\n",
       "    <tr>\n",
       "      <th>1000380</th>\n",
       "      <td>179.841796</td>\n",
       "      <td>107.327191</td>\n",
       "      <td>200.192059</td>\n",
       "      <td>0.943578</td>\n",
       "    </tr>\n",
       "    <tr>\n",
       "      <th>1000407</th>\n",
       "      <td>140.523982</td>\n",
       "      <td>85.071837</td>\n",
       "      <td>150.744855</td>\n",
       "      <td>0.948078</td>\n",
       "    </tr>\n",
       "    <tr>\n",
       "      <th>...</th>\n",
       "      <td>...</td>\n",
       "      <td>...</td>\n",
       "      <td>...</td>\n",
       "      <td>...</td>\n",
       "    </tr>\n",
       "    <tr>\n",
       "      <th>4999331</th>\n",
       "      <td>119.871666</td>\n",
       "      <td>77.005132</td>\n",
       "      <td>128.292674</td>\n",
       "      <td>0.951050</td>\n",
       "    </tr>\n",
       "    <tr>\n",
       "      <th>4999373</th>\n",
       "      <td>143.356482</td>\n",
       "      <td>83.120939</td>\n",
       "      <td>137.664470</td>\n",
       "      <td>0.946512</td>\n",
       "    </tr>\n",
       "    <tr>\n",
       "      <th>4999543</th>\n",
       "      <td>123.396442</td>\n",
       "      <td>84.933799</td>\n",
       "      <td>139.303552</td>\n",
       "      <td>0.955392</td>\n",
       "    </tr>\n",
       "    <tr>\n",
       "      <th>4999719</th>\n",
       "      <td>137.733007</td>\n",
       "      <td>84.338143</td>\n",
       "      <td>138.312118</td>\n",
       "      <td>0.950610</td>\n",
       "    </tr>\n",
       "    <tr>\n",
       "      <th>4999878</th>\n",
       "      <td>155.280111</td>\n",
       "      <td>88.766920</td>\n",
       "      <td>157.319171</td>\n",
       "      <td>0.946983</td>\n",
       "    </tr>\n",
       "  </tbody>\n",
       "</table>\n",
       "<p>36047 rows × 4 columns</p>\n",
       "</div>"
      ],
      "text/plain": [
       "         LVEDV (mL)     LVM (g)  RVEDV (mL)     LVSph\n",
       "1000215  109.544212   70.061720  118.586674  0.945627\n",
       "1000336  123.185025   73.821846  121.557099  0.935885\n",
       "1000363  172.502476  136.292264  188.630958  0.939892\n",
       "1000380  179.841796  107.327191  200.192059  0.943578\n",
       "1000407  140.523982   85.071837  150.744855  0.948078\n",
       "...             ...         ...         ...       ...\n",
       "4999331  119.871666   77.005132  128.292674  0.951050\n",
       "4999373  143.356482   83.120939  137.664470  0.946512\n",
       "4999543  123.396442   84.933799  139.303552  0.955392\n",
       "4999719  137.733007   84.338143  138.312118  0.950610\n",
       "4999878  155.280111   88.766920  157.319171  0.946983\n",
       "\n",
       "[36047 rows x 4 columns]"
      ]
     },
     "execution_count": 15,
     "metadata": {},
     "output_type": "execute_result"
    }
   ],
   "source": [
    "cardiac_indices_df"
   ]
  },
  {
   "cell_type": "code",
   "execution_count": 18,
   "id": "ad83c73c",
   "metadata": {
    "collapsed": true
   },
   "outputs": [
    {
     "data": {
      "application/vnd.jupyter.widget-view+json": {
       "model_id": "4010166106d9436a9ffb32160cdf262d",
       "version_major": 2,
       "version_minor": 0
      },
      "text/plain": [
       "interactive(children=(Select(description='exp_name', options=('Cardiac - ED', 'Default'), value='Cardiac - ED'…"
      ]
     },
     "metadata": {},
     "output_type": "display_data"
    }
   ],
   "source": [
    "def experiment_selection_widget():\n",
    "    options = [exp.name for exp in mlflow.list_experiments()]\n",
    "\n",
    "    experiment_w = widgets.Select(\n",
    "      options=options,\n",
    "      value=\"Cardiac - ED\"\n",
    "    )\n",
    "    \n",
    "    return experiment_w\n",
    "\n",
    "exp_w = experiment_selection_widget()\n",
    "\n",
    "@interact\n",
    "def get_runs(exp_name=exp_w):  \n",
    "  try:\n",
    "    exp_id = mlflow.get_experiment_by_name(exp_name).experiment_id\n",
    "    runs_df = get_runs_df(exp_name=exp_name, only_finished=True)\n",
    "    metrics, params = get_metrics_cols(runs_df), get_params_cols(runs_df)  \n",
    "    # display(runs_df.loc[:, [*metrics, *params]].drop(\"params.platform\", axis=1).head(10))\n",
    "    return runs_df\n",
    "  except:\n",
    "    pass"
   ]
  },
  {
   "cell_type": "code",
   "execution_count": 43,
   "id": "e129565e",
   "metadata": {},
   "outputs": [],
   "source": [
    "runs_df = get_runs_df(exp_name=exp_w.value, only_finished=True)"
   ]
  },
  {
   "cell_type": "code",
   "execution_count": 44,
   "id": "ffe7274d",
   "metadata": {},
   "outputs": [],
   "source": [
    "z_paths = runs_df.reset_index().apply(\n",
    "    lambda row: ((row.experiment_id, row.run_id), row.artifact_uri.replace(\"file://\", \"\") + f'''/output/z_adj_{row.experiment_id}_{row.run_id}.tsv'''), axis=1\n",
    ")\n",
    "z_paths = dict(z_paths.values.tolist())"
   ]
  },
  {
   "cell_type": "code",
   "execution_count": 45,
   "id": "bba06ad0",
   "metadata": {},
   "outputs": [],
   "source": [
    "z_dfs = {}\n",
    "\n",
    "for run_id, z_path in z_paths.items():\n",
    "    try:\n",
    "        z_dfs[run_id] = pd.read_csv(z_path, sep=\"\\t\").set_index(\"ID\")\n",
    "    except FileNotFoundError:\n",
    "        pass"
   ]
  },
  {
   "cell_type": "code",
   "execution_count": 39,
   "id": "d3b75ae3",
   "metadata": {},
   "outputs": [],
   "source": [
    "def change_col_names(exper_id, run_id, kk):\n",
    "    kk.columns = [f\"{exper_id}_{run_id[:5]}_{col}\" for col in kk.columns]\n",
    "    return kk"
   ]
  },
  {
   "cell_type": "code",
   "execution_count": 47,
   "id": "d16a48fc",
   "metadata": {},
   "outputs": [],
   "source": [
    "z_dfs_renamed = [change_col_names(expid, runid, z_df) for (expid, runid), z_df in z_dfs.items()]"
   ]
  },
  {
   "cell_type": "code",
   "execution_count": 105,
   "id": "18ee07cc",
   "metadata": {},
   "outputs": [],
   "source": [
    "z_all_df = pd.concat(z_dfs_renamed, axis=1)"
   ]
  },
  {
   "cell_type": "code",
   "execution_count": 57,
   "id": "c73abaf1",
   "metadata": {},
   "outputs": [],
   "source": [
    "z_corr_df = z_all_df.corr().abs()"
   ]
  },
  {
   "cell_type": "markdown",
   "id": "99b87705",
   "metadata": {},
   "source": [
    "# Correlation between latent variables"
   ]
  },
  {
   "cell_type": "code",
   "execution_count": null,
   "id": "675546ba",
   "metadata": {},
   "outputs": [],
   "source": [
    "import numpy as np\n",
    "import matplotlib.pyplot as plt\n",
    "import seaborn as sns"
   ]
  },
  {
   "cell_type": "code",
   "execution_count": null,
   "id": "75edc382",
   "metadata": {},
   "outputs": [],
   "source": [
    "corr_lst = np.triu(z_corr_df.to_numpy()).flatten()"
   ]
  },
  {
   "cell_type": "code",
   "execution_count": 87,
   "id": "c9296ab1",
   "metadata": {},
   "outputs": [
    {
     "data": {
      "image/png": "[encoded data removed]",
      "text/plain": [
       "<Figure size 432x288 with 1 Axes>"
      ]
     },
     "metadata": {
      "needs_background": "light"
     },
     "output_type": "display_data"
    }
   ],
   "source": [
    "plt.hist(corr_lst[~(corr_lst == 1.) & ~(corr_lst == 0.)], bins=20);"
   ]
  },
  {
   "cell_type": "code",
   "execution_count": 106,
   "id": "8608df82",
   "metadata": {},
   "outputs": [],
   "source": [
    "z_all_df = z_all_df.set_index(z_all_df.index.astype(str))"
   ]
  },
  {
   "cell_type": "code",
   "execution_count": 115,
   "id": "11e523ac",
   "metadata": {},
   "outputs": [
    {
     "data": {
      "text/plain": [
       "Index(['2471198', '1746709', '2008596', '4917788', '1780889', '4132998',\n",
       "       '1945485', '3447737', '1430120', '2862266',\n",
       "       ...\n",
       "       '3661561', '2760723', '4078882', '4149767', '3582825', '4485380',\n",
       "       '3878790', '1703522', '2034360', '4424098'],\n",
       "      dtype='object', name='ID', length=31620)"
      ]
     },
     "execution_count": 115,
     "metadata": {},
     "output_type": "execute_result"
    }
   ],
   "source": [
    "z_all_df.index"
   ]
  },
  {
   "cell_type": "code",
   "execution_count": 150,
   "id": "2e668c57",
   "metadata": {},
   "outputs": [],
   "source": [
    "common_subjects = list(set(cardiac_indices_df.drop_duplicates().index).intersection(set(z_all_df.drop_duplicates().index)))"
   ]
  },
  {
   "cell_type": "code",
   "execution_count": 168,
   "id": "ec1f4472",
   "metadata": {},
   "outputs": [
    {
     "data": {
      "text/plain": [
       "31610"
      ]
     },
     "execution_count": 168,
     "metadata": {},
     "output_type": "execute_result"
    }
   ],
   "source": [
    "len(common_subjects)"
   ]
  },
  {
   "cell_type": "code",
   "execution_count": 170,
   "id": "ab654fb8",
   "metadata": {},
   "outputs": [],
   "source": [
    "ccii = cardiac_indices_df.loc[sorted(common_subjects)].drop_duplicates()"
   ]
  },
  {
   "cell_type": "code",
   "execution_count": 180,
   "id": "746dbe43",
   "metadata": {},
   "outputs": [
    {
     "data": {
      "text/plain": [
       "(31610, 576)"
      ]
     },
     "execution_count": 180,
     "metadata": {},
     "output_type": "execute_result"
    }
   ],
   "source": [
    "zz.shape"
   ]
  },
  {
   "cell_type": "code",
   "execution_count": 186,
   "id": "3aa4638d",
   "metadata": {},
   "outputs": [
    {
     "data": {
      "text/plain": [
       "0.012538214408424665"
      ]
     },
     "execution_count": 186,
     "metadata": {},
     "output_type": "execute_result"
    }
   ],
   "source": [
    "zz[\"1_e6490_z000\"].corr(ccii.LVSph)"
   ]
  },
  {
   "cell_type": "code",
   "execution_count": 178,
   "id": "4bb2b804",
   "metadata": {},
   "outputs": [
    {
     "data": {
      "text/plain": [
       "1000336   NaN\n",
       "1000363   NaN\n",
       "1000380   NaN\n",
       "1000407   NaN\n",
       "1000739   NaN\n",
       "           ..\n",
       "4999331   NaN\n",
       "4999373   NaN\n",
       "4999543   NaN\n",
       "4999719   NaN\n",
       "4999878   NaN\n",
       "Length: 31610, dtype: float64"
      ]
     },
     "execution_count": 178,
     "metadata": {},
     "output_type": "execute_result"
    }
   ],
   "source": [
    "ccii.corrwith(zz[0], axis=1)"
   ]
  },
  {
   "cell_type": "code",
   "execution_count": 164,
   "id": "1c0dbf02",
   "metadata": {},
   "outputs": [],
   "source": [
    "zz = z_all_df.loc[sorted(common_subjects)].drop_duplicates()"
   ]
  },
  {
   "cell_type": "code",
   "execution_count": 197,
   "id": "3d38dce5",
   "metadata": {},
   "outputs": [
    {
     "data": {
      "text/plain": [
       "LVEDV (mL)    31610\n",
       "LVM (g)       31610\n",
       "RVEDV (mL)    31610\n",
       "LVSph         31610\n",
       "dtype: int64"
      ]
     },
     "execution_count": 197,
     "metadata": {},
     "output_type": "execute_result"
    }
   ],
   "source": [
    "ccii.isna().count()"
   ]
  },
  {
   "cell_type": "code",
   "execution_count": 222,
   "id": "e4d8fabc",
   "metadata": {},
   "outputs": [],
   "source": [
    "ccii.to_csv(\"lvedv_lvm_rvedv_lvsph.csv\", index=True, index_label=\"ID\")"
   ]
  },
  {
   "cell_type": "code",
   "execution_count": 209,
   "id": "5950a08a",
   "metadata": {},
   "outputs": [],
   "source": [
    "corr_matrix = pd.concat([zz, ccii], axis=1).corr() #.index.str.startswith(\"LV\")"
   ]
  },
  {
   "cell_type": "code",
   "execution_count": 220,
   "id": "47db42a6",
   "metadata": {},
   "outputs": [],
   "source": [
    "z_corr = zz.corr()"
   ]
  },
  {
   "cell_type": "code",
   "execution_count": 215,
   "id": "1a7f60b5",
   "metadata": {},
   "outputs": [],
   "source": [
    "corr_z_vs_indices = corr_matrix[ccii.columns]"
   ]
  },
  {
   "cell_type": "code",
   "execution_count": 224,
   "id": "85d4a312",
   "metadata": {},
   "outputs": [],
   "source": [
    "corr_z_vs_indices.to_csv(\"data/cardio/corr_z_vs_indices.csv\", index=True, index_label=\"phenotype\")"
   ]
  },
  {
   "cell_type": "code",
   "execution_count": 120,
   "id": "cf88f16a",
   "metadata": {},
   "outputs": [
    {
     "data": {
      "text/plain": [
       "32009"
      ]
     },
     "execution_count": 120,
     "metadata": {},
     "output_type": "execute_result"
    }
   ],
   "source": [
    "len([ind for ind in cardiac_indices_df.index if ind in z_all_df.index])"
   ]
  },
  {
   "cell_type": "code",
   "execution_count": 95,
   "id": "62a5ea51",
   "metadata": {},
   "outputs": [
    {
     "data": {
      "text/plain": [
       "Index(['1000215', '1000336', '1000363', '1000380', '1000407', '1000434',\n",
       "       '1000590', '1000739', '1000892', '1001145',\n",
       "       ...\n",
       "       '4998334', '4998438', '4998720', '4999081', '4999177', '4999331',\n",
       "       '4999373', '4999543', '4999719', '4999878'],\n",
       "      dtype='object', length=36047)"
      ]
     },
     "execution_count": 95,
     "metadata": {},
     "output_type": "execute_result"
    }
   ],
   "source": [
    "cardiac_indices_df.index"
   ]
  }
 ],
 "metadata": {
  "kernelspec": {
   "display_name": "cardio",
   "language": "python",
   "name": "cardio"
  },
  "language_info": {
   "codemirror_mode": {
    "name": "ipython",
    "version": 3
   },
   "file_extension": ".py",
   "mimetype": "text/x-python",
   "name": "python",
   "nbconvert_exporter": "python",
   "pygments_lexer": "ipython3",
   "version": "3.9.12"
  }
 },
 "nbformat": 4,
 "nbformat_minor": 5
}
