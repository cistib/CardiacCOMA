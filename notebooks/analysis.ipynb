{
 "cells": [
  {
   "cell_type": "markdown",
   "metadata": {},
   "source": [
    "Set path to where `mlruns` directory is located (usually, the `CardiacCOMA` repository)"
   ]
  },
  {
   "cell_type": "code",
   "execution_count": 1,
   "metadata": {},
   "outputs": [],
   "source": [
    "CARDIAC_COMA_REPO = \"/home/rodrigo/CISTIB/repos/CardiacCOMA/\""
   ]
  },
  {
   "cell_type": "code",
   "execution_count": 2,
   "metadata": {
    "tags": []
   },
   "outputs": [],
   "source": [
    "import mlflow\n",
    "import os, sys\n",
    "\n",
    "import torch\n",
    "import torch.nn.functional as F\n",
    "\n",
    "import os; os.chdir(CARDIAC_COMA_REPO)\n",
    "from config.load_config import load_yaml_config, to_dict\n",
    "\n",
    "import ipywidgets as widgets\n",
    "from ipywidgets import interact\n",
    "from IPython.display import Image\n",
    "from mlflow.tracking import MlflowClient\n",
    "\n",
    "import pickle as pkl\n",
    "import pytorch_lightning as pl\n",
    "\n",
    "from argparse import Namespace\n",
    "import matplotlib.pyplot as plt\n",
    "\n",
    "#import surgeon_pytorch\n",
    "#from surgeon_pytorch import Inspect, get_layers\n",
    "\n",
    "import numpy as np\n",
    "from IPython import embed\n",
    "sys.path.insert(0, '..')\n",
    "\n",
    "import model.Model3D\n",
    "from utils.helpers import get_coma_args, get_lightning_module, get_datamodule\n",
    "from copy import deepcopy\n",
    "from pprint import pprint"
   ]
  },
  {
   "cell_type": "code",
   "execution_count": 3,
   "metadata": {},
   "outputs": [],
   "source": [
    "import random\n",
    "import pyvista as pv\n",
    "import ast\n",
    "import pandas as pd"
   ]
  },
  {
   "cell_type": "markdown",
   "metadata": {},
   "source": [
    "Some function definitions:"
   ]
  },
  {
   "cell_type": "code",
   "execution_count": 4,
   "metadata": {},
   "outputs": [],
   "source": [
    "def mse(s1, s2=None):\n",
    "    if s2 is None:\n",
    "        s2 = torch.zeros_like(s1)\n",
    "    return ((s1-s2)**2).sum(-1).mean(-1)"
   ]
  },
  {
   "cell_type": "code",
   "execution_count": 5,
   "metadata": {},
   "outputs": [],
   "source": [
    "client = MlflowClient()\n",
    "local_dir = \"/tmp/artifact_downloads\"\n",
    "\n",
    "if not os.path.exists(local_dir):\n",
    "    os.mkdir(local_dir)\n",
    "    \n",
    "# client._tracking_client.list_artifacts(\n",
    "#     runs_df.run_id[2], 'restored_model_checkp# oint'\n",
    "# )"
   ]
  },
  {
   "cell_type": "markdown",
   "metadata": {},
   "source": [
    "# Select MLflow experiment"
   ]
  },
  {
   "cell_type": "code",
   "execution_count": 6,
   "metadata": {},
   "outputs": [],
   "source": [
    "TRACKING_URI = f\"file://{CARDIAC_COMA_REPO}/mlruns\"\n",
    "mlflow.set_tracking_uri(TRACKING_URI)"
   ]
  },
  {
   "cell_type": "code",
   "execution_count": 7,
   "metadata": {
    "tags": []
   },
   "outputs": [
    {
     "data": {
      "application/vnd.jupyter.widget-view+json": {
       "model_id": "41c85ff2e34846a78e46b070bfcdcb43",
       "version_major": 2,
       "version_minor": 0
      },
      "text/plain": [
       "Select(options=('Cardiac - ED', 'Default'), value='Cardiac - ED')"
      ]
     },
     "metadata": {},
     "output_type": "display_data"
    }
   ],
   "source": [
    "options = [exp.name for exp in mlflow.list_experiments()]\n",
    "\n",
    "experiment_w = widgets.Select(\n",
    "    options=options,\n",
    "    value=options[0]\n",
    ")\n",
    "display(experiment_w)"
   ]
  },
  {
   "cell_type": "markdown",
   "metadata": {},
   "source": [
    "Retrieve run data from MLflow"
   ]
  },
  {
   "cell_type": "code",
   "execution_count": 12,
   "metadata": {},
   "outputs": [],
   "source": [
    "# runs_list = mlflow.search_runs(experiment_ids=[exp_id], output_format=\"list\")\n",
    "exp_id = mlflow.get_experiment_by_name(experiment_w.value).experiment_id\n",
    "\n",
    "runs_df = mlflow.search_runs(experiment_ids=[exp_id],)\n",
    "\n",
    "# Keep only the runs that ended successfully\n",
    "runs_df = runs_df[runs_df.status == \"FINISHED\"].reset_index(drop=True)\n",
    "\n",
    "# Use experiment ID and run ID as indices\n",
    "runs_df = runs_df.set_index([\"experiment_id\", \"run_id\"])\n",
    "# runs_df.describe()"
   ]
  },
  {
   "cell_type": "markdown",
   "metadata": {},
   "source": [
    "Choose the run with the minimum `val_recon_loss` and load pretained weights."
   ]
  },
  {
   "cell_type": "code",
   "execution_count": 13,
   "metadata": {},
   "outputs": [
    {
     "name": "stdout",
     "output_type": "stream",
     "text": [
      "(41, 51)\n"
     ]
    },
    {
     "data": {
      "text/html": [
       "<div>\n",
       "<style scoped>\n",
       "    .dataframe tbody tr th:only-of-type {\n",
       "        vertical-align: middle;\n",
       "    }\n",
       "\n",
       "    .dataframe tbody tr th {\n",
       "        vertical-align: top;\n",
       "    }\n",
       "\n",
       "    .dataframe thead th {\n",
       "        text-align: right;\n",
       "    }\n",
       "</style>\n",
       "<table border=\"1\" class=\"dataframe\">\n",
       "  <thead>\n",
       "    <tr style=\"text-align: right;\">\n",
       "      <th></th>\n",
       "      <th></th>\n",
       "      <th>status</th>\n",
       "      <th>artifact_uri</th>\n",
       "      <th>start_time</th>\n",
       "      <th>end_time</th>\n",
       "      <th>metrics.val_kld_loss</th>\n",
       "      <th>metrics.recon_loss</th>\n",
       "      <th>metrics.kld_loss</th>\n",
       "      <th>metrics.epoch</th>\n",
       "      <th>metrics.loss</th>\n",
       "      <th>metrics.test_kld_loss</th>\n",
       "      <th>...</th>\n",
       "      <th>params.eps</th>\n",
       "      <th>params.optimizer_name</th>\n",
       "      <th>params.weight_decay</th>\n",
       "      <th>params.lr</th>\n",
       "      <th>tags.Mode</th>\n",
       "      <th>tags.mlflow.user</th>\n",
       "      <th>tags.mlflow.source.type</th>\n",
       "      <th>tags.mlflow.source.git.commit</th>\n",
       "      <th>tags.mlflow.source.name</th>\n",
       "      <th>tags.mlflow.log-model.history</th>\n",
       "    </tr>\n",
       "    <tr>\n",
       "      <th>experiment_id</th>\n",
       "      <th>run_id</th>\n",
       "      <th></th>\n",
       "      <th></th>\n",
       "      <th></th>\n",
       "      <th></th>\n",
       "      <th></th>\n",
       "      <th></th>\n",
       "      <th></th>\n",
       "      <th></th>\n",
       "      <th></th>\n",
       "      <th></th>\n",
       "      <th></th>\n",
       "      <th></th>\n",
       "      <th></th>\n",
       "      <th></th>\n",
       "      <th></th>\n",
       "      <th></th>\n",
       "      <th></th>\n",
       "      <th></th>\n",
       "      <th></th>\n",
       "      <th></th>\n",
       "      <th></th>\n",
       "    </tr>\n",
       "  </thead>\n",
       "  <tbody>\n",
       "    <tr>\n",
       "      <th rowspan=\"5\" valign=\"top\">1</th>\n",
       "      <th>2773a8ba02e84cb29fe7a692fff66fc6</th>\n",
       "      <td>FINISHED</td>\n",
       "      <td>file:///home/rodrigo/CISTIB/repos/CardiacCOMA/...</td>\n",
       "      <td>2022-07-07 13:33:41.756000+00:00</td>\n",
       "      <td>2022-07-07 14:52:42.951000+00:00</td>\n",
       "      <td>inf</td>\n",
       "      <td>1.560820e+07</td>\n",
       "      <td>inf</td>\n",
       "      <td>20.0</td>\n",
       "      <td>inf</td>\n",
       "      <td>inf</td>\n",
       "      <td>...</td>\n",
       "      <td>1e-08</td>\n",
       "      <td>Adam</td>\n",
       "      <td>0.0005</td>\n",
       "      <td>0.0002</td>\n",
       "      <td>testing</td>\n",
       "      <td>user</td>\n",
       "      <td>LOCAL</td>\n",
       "      <td>faa6e249c4acc4aab75fb37a391ececad04898cb</td>\n",
       "      <td>main.py</td>\n",
       "      <td>None</td>\n",
       "    </tr>\n",
       "    <tr>\n",
       "      <th>8d082d60e7784e3e9b2bd620424225e8</th>\n",
       "      <td>FINISHED</td>\n",
       "      <td>file:///home/rodrigo/CISTIB/repos/CardiacCOMA/...</td>\n",
       "      <td>2022-07-07 13:33:22.301000+00:00</td>\n",
       "      <td>2022-07-08 02:41:15.604000+00:00</td>\n",
       "      <td>3.741764</td>\n",
       "      <td>4.065629e-01</td>\n",
       "      <td>3.749800</td>\n",
       "      <td>503.0</td>\n",
       "      <td>0.781543</td>\n",
       "      <td>3.749799</td>\n",
       "      <td>...</td>\n",
       "      <td>1e-08</td>\n",
       "      <td>Adam</td>\n",
       "      <td>0.0005</td>\n",
       "      <td>2e-05</td>\n",
       "      <td>testing</td>\n",
       "      <td>user</td>\n",
       "      <td>LOCAL</td>\n",
       "      <td>faa6e249c4acc4aab75fb37a391ececad04898cb</td>\n",
       "      <td>main.py</td>\n",
       "      <td>None</td>\n",
       "    </tr>\n",
       "    <tr>\n",
       "      <th>2c83b43cbb314a9795911d3981360067</th>\n",
       "      <td>FINISHED</td>\n",
       "      <td>file:///home/rodrigo/CISTIB/repos/CardiacCOMA/...</td>\n",
       "      <td>2022-07-07 08:57:25.726000+00:00</td>\n",
       "      <td>2022-07-07 12:46:52.206000+00:00</td>\n",
       "      <td>4.752035</td>\n",
       "      <td>6.754199e-01</td>\n",
       "      <td>4.733474</td>\n",
       "      <td>842.0</td>\n",
       "      <td>1.148767</td>\n",
       "      <td>4.733474</td>\n",
       "      <td>...</td>\n",
       "      <td>1e-08</td>\n",
       "      <td>Adam</td>\n",
       "      <td>0.0005</td>\n",
       "      <td>2e-05</td>\n",
       "      <td>testing</td>\n",
       "      <td>user</td>\n",
       "      <td>LOCAL</td>\n",
       "      <td>faa6e249c4acc4aab75fb37a391ececad04898cb</td>\n",
       "      <td>main.py</td>\n",
       "      <td>None</td>\n",
       "    </tr>\n",
       "    <tr>\n",
       "      <th>3ccf1e5e892949878a1ceba478de3457</th>\n",
       "      <td>FINISHED</td>\n",
       "      <td>file:///home/rodrigo/CISTIB/repos/CardiacCOMA/...</td>\n",
       "      <td>2022-07-07 08:57:12.057000+00:00</td>\n",
       "      <td>2022-07-07 10:06:26.327000+00:00</td>\n",
       "      <td>187.436127</td>\n",
       "      <td>1.662557e+00</td>\n",
       "      <td>187.487762</td>\n",
       "      <td>248.0</td>\n",
       "      <td>1.681306</td>\n",
       "      <td>187.487762</td>\n",
       "      <td>...</td>\n",
       "      <td>1e-08</td>\n",
       "      <td>Adam</td>\n",
       "      <td>0.0005</td>\n",
       "      <td>2e-05</td>\n",
       "      <td>testing</td>\n",
       "      <td>user</td>\n",
       "      <td>LOCAL</td>\n",
       "      <td>faa6e249c4acc4aab75fb37a391ececad04898cb</td>\n",
       "      <td>main.py</td>\n",
       "      <td>None</td>\n",
       "    </tr>\n",
       "    <tr>\n",
       "      <th>346c47ff24a5456c8b77d7d0e34a0a9e</th>\n",
       "      <td>FINISHED</td>\n",
       "      <td>file:///home/rodrigo/CISTIB/repos/CardiacCOMA/...</td>\n",
       "      <td>2022-07-07 08:57:02.179000+00:00</td>\n",
       "      <td>2022-07-07 12:49:58.855000+00:00</td>\n",
       "      <td>29.892481</td>\n",
       "      <td>1.225944e+00</td>\n",
       "      <td>29.888357</td>\n",
       "      <td>556.0</td>\n",
       "      <td>1.524827</td>\n",
       "      <td>29.888359</td>\n",
       "      <td>...</td>\n",
       "      <td>1e-08</td>\n",
       "      <td>Adam</td>\n",
       "      <td>0.0005</td>\n",
       "      <td>2e-05</td>\n",
       "      <td>testing</td>\n",
       "      <td>user</td>\n",
       "      <td>LOCAL</td>\n",
       "      <td>faa6e249c4acc4aab75fb37a391ececad04898cb</td>\n",
       "      <td>main.py</td>\n",
       "      <td>None</td>\n",
       "    </tr>\n",
       "  </tbody>\n",
       "</table>\n",
       "<p>5 rows × 51 columns</p>\n",
       "</div>"
      ],
      "text/plain": [
       "                                                  status  \\\n",
       "experiment_id run_id                                       \n",
       "1             2773a8ba02e84cb29fe7a692fff66fc6  FINISHED   \n",
       "              8d082d60e7784e3e9b2bd620424225e8  FINISHED   \n",
       "              2c83b43cbb314a9795911d3981360067  FINISHED   \n",
       "              3ccf1e5e892949878a1ceba478de3457  FINISHED   \n",
       "              346c47ff24a5456c8b77d7d0e34a0a9e  FINISHED   \n",
       "\n",
       "                                                                                     artifact_uri  \\\n",
       "experiment_id run_id                                                                                \n",
       "1             2773a8ba02e84cb29fe7a692fff66fc6  file:///home/rodrigo/CISTIB/repos/CardiacCOMA/...   \n",
       "              8d082d60e7784e3e9b2bd620424225e8  file:///home/rodrigo/CISTIB/repos/CardiacCOMA/...   \n",
       "              2c83b43cbb314a9795911d3981360067  file:///home/rodrigo/CISTIB/repos/CardiacCOMA/...   \n",
       "              3ccf1e5e892949878a1ceba478de3457  file:///home/rodrigo/CISTIB/repos/CardiacCOMA/...   \n",
       "              346c47ff24a5456c8b77d7d0e34a0a9e  file:///home/rodrigo/CISTIB/repos/CardiacCOMA/...   \n",
       "\n",
       "                                                                     start_time  \\\n",
       "experiment_id run_id                                                              \n",
       "1             2773a8ba02e84cb29fe7a692fff66fc6 2022-07-07 13:33:41.756000+00:00   \n",
       "              8d082d60e7784e3e9b2bd620424225e8 2022-07-07 13:33:22.301000+00:00   \n",
       "              2c83b43cbb314a9795911d3981360067 2022-07-07 08:57:25.726000+00:00   \n",
       "              3ccf1e5e892949878a1ceba478de3457 2022-07-07 08:57:12.057000+00:00   \n",
       "              346c47ff24a5456c8b77d7d0e34a0a9e 2022-07-07 08:57:02.179000+00:00   \n",
       "\n",
       "                                                                       end_time  \\\n",
       "experiment_id run_id                                                              \n",
       "1             2773a8ba02e84cb29fe7a692fff66fc6 2022-07-07 14:52:42.951000+00:00   \n",
       "              8d082d60e7784e3e9b2bd620424225e8 2022-07-08 02:41:15.604000+00:00   \n",
       "              2c83b43cbb314a9795911d3981360067 2022-07-07 12:46:52.206000+00:00   \n",
       "              3ccf1e5e892949878a1ceba478de3457 2022-07-07 10:06:26.327000+00:00   \n",
       "              346c47ff24a5456c8b77d7d0e34a0a9e 2022-07-07 12:49:58.855000+00:00   \n",
       "\n",
       "                                                metrics.val_kld_loss  \\\n",
       "experiment_id run_id                                                   \n",
       "1             2773a8ba02e84cb29fe7a692fff66fc6                   inf   \n",
       "              8d082d60e7784e3e9b2bd620424225e8              3.741764   \n",
       "              2c83b43cbb314a9795911d3981360067              4.752035   \n",
       "              3ccf1e5e892949878a1ceba478de3457            187.436127   \n",
       "              346c47ff24a5456c8b77d7d0e34a0a9e             29.892481   \n",
       "\n",
       "                                                metrics.recon_loss  \\\n",
       "experiment_id run_id                                                 \n",
       "1             2773a8ba02e84cb29fe7a692fff66fc6        1.560820e+07   \n",
       "              8d082d60e7784e3e9b2bd620424225e8        4.065629e-01   \n",
       "              2c83b43cbb314a9795911d3981360067        6.754199e-01   \n",
       "              3ccf1e5e892949878a1ceba478de3457        1.662557e+00   \n",
       "              346c47ff24a5456c8b77d7d0e34a0a9e        1.225944e+00   \n",
       "\n",
       "                                                metrics.kld_loss  \\\n",
       "experiment_id run_id                                               \n",
       "1             2773a8ba02e84cb29fe7a692fff66fc6               inf   \n",
       "              8d082d60e7784e3e9b2bd620424225e8          3.749800   \n",
       "              2c83b43cbb314a9795911d3981360067          4.733474   \n",
       "              3ccf1e5e892949878a1ceba478de3457        187.487762   \n",
       "              346c47ff24a5456c8b77d7d0e34a0a9e         29.888357   \n",
       "\n",
       "                                                metrics.epoch  metrics.loss  \\\n",
       "experiment_id run_id                                                          \n",
       "1             2773a8ba02e84cb29fe7a692fff66fc6           20.0           inf   \n",
       "              8d082d60e7784e3e9b2bd620424225e8          503.0      0.781543   \n",
       "              2c83b43cbb314a9795911d3981360067          842.0      1.148767   \n",
       "              3ccf1e5e892949878a1ceba478de3457          248.0      1.681306   \n",
       "              346c47ff24a5456c8b77d7d0e34a0a9e          556.0      1.524827   \n",
       "\n",
       "                                                metrics.test_kld_loss  ...  \\\n",
       "experiment_id run_id                                                   ...   \n",
       "1             2773a8ba02e84cb29fe7a692fff66fc6                    inf  ...   \n",
       "              8d082d60e7784e3e9b2bd620424225e8               3.749799  ...   \n",
       "              2c83b43cbb314a9795911d3981360067               4.733474  ...   \n",
       "              3ccf1e5e892949878a1ceba478de3457             187.487762  ...   \n",
       "              346c47ff24a5456c8b77d7d0e34a0a9e              29.888359  ...   \n",
       "\n",
       "                                                params.eps  \\\n",
       "experiment_id run_id                                         \n",
       "1             2773a8ba02e84cb29fe7a692fff66fc6       1e-08   \n",
       "              8d082d60e7784e3e9b2bd620424225e8       1e-08   \n",
       "              2c83b43cbb314a9795911d3981360067       1e-08   \n",
       "              3ccf1e5e892949878a1ceba478de3457       1e-08   \n",
       "              346c47ff24a5456c8b77d7d0e34a0a9e       1e-08   \n",
       "\n",
       "                                                params.optimizer_name  \\\n",
       "experiment_id run_id                                                    \n",
       "1             2773a8ba02e84cb29fe7a692fff66fc6                   Adam   \n",
       "              8d082d60e7784e3e9b2bd620424225e8                   Adam   \n",
       "              2c83b43cbb314a9795911d3981360067                   Adam   \n",
       "              3ccf1e5e892949878a1ceba478de3457                   Adam   \n",
       "              346c47ff24a5456c8b77d7d0e34a0a9e                   Adam   \n",
       "\n",
       "                                                params.weight_decay  \\\n",
       "experiment_id run_id                                                  \n",
       "1             2773a8ba02e84cb29fe7a692fff66fc6               0.0005   \n",
       "              8d082d60e7784e3e9b2bd620424225e8               0.0005   \n",
       "              2c83b43cbb314a9795911d3981360067               0.0005   \n",
       "              3ccf1e5e892949878a1ceba478de3457               0.0005   \n",
       "              346c47ff24a5456c8b77d7d0e34a0a9e               0.0005   \n",
       "\n",
       "                                                params.lr  tags.Mode  \\\n",
       "experiment_id run_id                                                   \n",
       "1             2773a8ba02e84cb29fe7a692fff66fc6     0.0002    testing   \n",
       "              8d082d60e7784e3e9b2bd620424225e8      2e-05    testing   \n",
       "              2c83b43cbb314a9795911d3981360067      2e-05    testing   \n",
       "              3ccf1e5e892949878a1ceba478de3457      2e-05    testing   \n",
       "              346c47ff24a5456c8b77d7d0e34a0a9e      2e-05    testing   \n",
       "\n",
       "                                                tags.mlflow.user  \\\n",
       "experiment_id run_id                                               \n",
       "1             2773a8ba02e84cb29fe7a692fff66fc6              user   \n",
       "              8d082d60e7784e3e9b2bd620424225e8              user   \n",
       "              2c83b43cbb314a9795911d3981360067              user   \n",
       "              3ccf1e5e892949878a1ceba478de3457              user   \n",
       "              346c47ff24a5456c8b77d7d0e34a0a9e              user   \n",
       "\n",
       "                                                tags.mlflow.source.type  \\\n",
       "experiment_id run_id                                                      \n",
       "1             2773a8ba02e84cb29fe7a692fff66fc6                    LOCAL   \n",
       "              8d082d60e7784e3e9b2bd620424225e8                    LOCAL   \n",
       "              2c83b43cbb314a9795911d3981360067                    LOCAL   \n",
       "              3ccf1e5e892949878a1ceba478de3457                    LOCAL   \n",
       "              346c47ff24a5456c8b77d7d0e34a0a9e                    LOCAL   \n",
       "\n",
       "                                                           tags.mlflow.source.git.commit  \\\n",
       "experiment_id run_id                                                                       \n",
       "1             2773a8ba02e84cb29fe7a692fff66fc6  faa6e249c4acc4aab75fb37a391ececad04898cb   \n",
       "              8d082d60e7784e3e9b2bd620424225e8  faa6e249c4acc4aab75fb37a391ececad04898cb   \n",
       "              2c83b43cbb314a9795911d3981360067  faa6e249c4acc4aab75fb37a391ececad04898cb   \n",
       "              3ccf1e5e892949878a1ceba478de3457  faa6e249c4acc4aab75fb37a391ececad04898cb   \n",
       "              346c47ff24a5456c8b77d7d0e34a0a9e  faa6e249c4acc4aab75fb37a391ececad04898cb   \n",
       "\n",
       "                                                tags.mlflow.source.name  \\\n",
       "experiment_id run_id                                                      \n",
       "1             2773a8ba02e84cb29fe7a692fff66fc6                  main.py   \n",
       "              8d082d60e7784e3e9b2bd620424225e8                  main.py   \n",
       "              2c83b43cbb314a9795911d3981360067                  main.py   \n",
       "              3ccf1e5e892949878a1ceba478de3457                  main.py   \n",
       "              346c47ff24a5456c8b77d7d0e34a0a9e                  main.py   \n",
       "\n",
       "                                                tags.mlflow.log-model.history  \n",
       "experiment_id run_id                                                           \n",
       "1             2773a8ba02e84cb29fe7a692fff66fc6                           None  \n",
       "              8d082d60e7784e3e9b2bd620424225e8                           None  \n",
       "              2c83b43cbb314a9795911d3981360067                           None  \n",
       "              3ccf1e5e892949878a1ceba478de3457                           None  \n",
       "              346c47ff24a5456c8b77d7d0e34a0a9e                           None  \n",
       "\n",
       "[5 rows x 51 columns]"
      ]
     },
     "execution_count": 13,
     "metadata": {},
     "output_type": "execute_result"
    }
   ],
   "source": [
    "runs_df = runs_df[(runs_df[\"params.latent_dim\"] == \"8\")]# & (runs_df[\"metrics.val_recon_loss\"] < 2 )]\n",
    "print(runs_df.shape)\n",
    "runs_df.head()"
   ]
  },
  {
   "cell_type": "code",
   "execution_count": 14,
   "metadata": {},
   "outputs": [
    {
     "data": {
      "text/plain": [
       "experiment_id  run_id                          \n",
       "1              2773a8ba02e84cb29fe7a692fff66fc6    8\n",
       "               8d082d60e7784e3e9b2bd620424225e8    8\n",
       "               2c83b43cbb314a9795911d3981360067    8\n",
       "               3ccf1e5e892949878a1ceba478de3457    8\n",
       "               346c47ff24a5456c8b77d7d0e34a0a9e    8\n",
       "               24b8a4654f1f483bbf46558d3ecdf8d5    8\n",
       "               943303879aab4e5ba18877d48a8bc229    8\n",
       "               22b8553e562b406e8ea63362582665ea    8\n",
       "               26c8a3565a32442399619242ae657220    8\n",
       "               3cce94de67054ec5890958b3419f3c99    8\n",
       "               979ba75551db4eee9bbf6572f31ac7b9    8\n",
       "               f85bb684cf114057bb0dbdf9dc1a7b95    8\n",
       "               7449da4588ae4099a4f06719269d5aba    8\n",
       "               4eedb101561b43abbf28e44fe0500265    8\n",
       "               71a4ff573871415f9f6320ab3e0470fc    8\n",
       "               b0d1636c1e184107a12bbdad6be40e12    8\n",
       "               2b7fddec29474c62a72805723eabe062    8\n",
       "               adefb34340f7430ba79309d33c965b1b    8\n",
       "               8a6345bba8354903a8b4e95f12eee856    8\n",
       "               033373ed8ebc4c708617fc28f5602503    8\n",
       "               93aee9ef9a95401c875da1772154866b    8\n",
       "               c5c0dc0081b84c5b8b6c3a8810d5e4b3    8\n",
       "               38831ef960a642048068866a8ec7c53f    8\n",
       "               f2ae4635ce4447928a1878fedda3ef0d    8\n",
       "               f29b7bbc693449babd61e7a0dbfb96b9    8\n",
       "               91dccfbac1aa4f61a6e1cd92cb302fb4    8\n",
       "               538cdbc267764dc49e4989360c6052f8    8\n",
       "               22dca21e8117464d9a22cf1fb4b6b411    8\n",
       "               7b4c960fd5a64e00bad2610c93b46ce2    8\n",
       "               93a68b2e7a1f438fba87c64ea31b4105    8\n",
       "               2c5bca7a47cd4840a1b953057e1ffdc1    8\n",
       "               79dec298cc654482962c1ce3c5af92e0    8\n",
       "               c6b24142a60d4bdbac6eaea92362bde9    8\n",
       "               8bd71a7ca2f644ca9864ff9597246da7    8\n",
       "               5a42aacf180048598d67685024d0e3c0    8\n",
       "               07e71392c70e4e06b4e8756d16fbc1d8    8\n",
       "               ddcc69eebc664037a038518dfb3d6e0f    8\n",
       "               20da8ca73a224a98ad793f79cf6b3a11    8\n",
       "               7e71e422fb854707ad2cd96d915416c4    8\n",
       "               5a2c9aff95a74deaa832c4f1e8da69ea    8\n",
       "               a6fa4ff7a3cf451bb33ae9a33352c3cb    8\n",
       "Name: params.latent_dim, dtype: object"
      ]
     },
     "execution_count": 14,
     "metadata": {},
     "output_type": "execute_result"
    }
   ],
   "source": [
    "runs_df[\"params.latent_dim\"]"
   ]
  },
  {
   "cell_type": "code",
   "execution_count": 15,
   "metadata": {},
   "outputs": [
    {
     "data": {
      "application/vnd.jupyter.widget-view+json": {
       "model_id": "6482db3811f54455806e37d82d6783de",
       "version_major": 2,
       "version_minor": 0
      },
      "text/plain": [
       "Select(options=('1-2773a8ba02e84cb29fe7a692fff66fc6', '1-8d082d60e7784e3e9b2bd620424225e8', '1-2c83b43cbb314a9…"
      ]
     },
     "metadata": {},
     "output_type": "display_data"
    }
   ],
   "source": [
    "run_ids_w = widgets.Select(options=[x[0] + \"-\" + x[1] for x in runs_df.index])\n",
    "display(run_ids_w)"
   ]
  },
  {
   "cell_type": "code",
   "execution_count": 16,
   "metadata": {
    "tags": []
   },
   "outputs": [
    {
     "name": "stdout",
     "output_type": "stream",
     "text": [
      "1 2c83b43cbb314a9795911d3981360067\n"
     ]
    }
   ],
   "source": [
    "experiment_id, run_id = runs_df.index[runs_df[\"metrics.val_recon_loss\"].argmin()]\n",
    "experiment_id, run_id = run_ids_w.value.split(\"-\")\n",
    "print(experiment_id, run_id)\n",
    "# print(runs_df.loc[experiment_id, run_id].to_dict())\n",
    "\n",
    "run_info = runs_df.loc[experiment_id, run_id].to_dict()\n",
    "\n",
    "# artifact_uri = run_info[\"artifact_uri\"].replace(\"file://\", \"\")\n",
    "chkpt_dir = os.path.join(TRACKING_URI.replace(\"file://\", \"\"), experiment_id, run_id, \"checkpoints\")\n",
    "# chkpt_dir = os.path.join(artifact_uri, \"restored_model_checkpoint\")\n",
    "chkpt_file = os.path.join(chkpt_dir, os.listdir(chkpt_dir)[0])\n",
    "\n",
    "model_pretrained_weights = torch.load(chkpt_file, map_location=torch.device('cpu'))[\"state_dict\"]\n",
    "\n",
    "# Remove \"model.\" prefix from state_dict's keys.\n",
    "_model_pretrained_weights = {k.replace(\"model.\", \"\"): v for k, v in model_pretrained_weights.items()}\n",
    "# print(_model_pretrained_weights)"
   ]
  },
  {
   "cell_type": "code",
   "execution_count": 17,
   "metadata": {
    "tags": []
   },
   "outputs": [],
   "source": [
    "def overwrite_ref_config(ref_config, run_info):\n",
    "    \n",
    "    '''\n",
    "    This is a workaround for adjusting the configuration of those runs that didn't have a YAML configuration file logged as an artifact.\n",
    "    '''\n",
    "    \n",
    "    config = deepcopy(ref_config)\n",
    "    config.network_architecture.latent_dim = int(run_info[\"params.latent_dim\"])\n",
    "    config.loss.regularization.weight = float(run_info[\"params.w_kl\"])\n",
    "    config.optimizer.parameters.lr = float(run_info[\"params.lr\"])\n",
    "    config.network_architecture.convolution.channels_enc = [int(x) for x in ast.literal_eval(run_info[\"params.n_channels_enc\"])]\n",
    "    config.network_architecture.convolution.channels_dec = [int(x) for x in ast.literal_eval(run_info[\"params.n_channels_enc\"])]\n",
    "    config.sample_sizes = [100, 100, 100, -1]\n",
    "    \n",
    "    return config\n",
    "\n",
    "\n",
    "ref_config = load_yaml_config(\"config_files/config.yaml\")\n",
    "config = overwrite_ref_config(ref_config, run_info)\n",
    "# pprint(to_dict(config))"
   ]
  },
  {
   "cell_type": "code",
   "execution_count": 18,
   "metadata": {},
   "outputs": [
    {
     "name": "stdout",
     "output_type": "stream",
     "text": [
      "[100, 100, 100, -1]\n"
     ]
    }
   ],
   "source": [
    "dm = get_datamodule(config, perform_setup=True)\n",
    "ids = list(dm.dataset_args['meshes'].keys())\n",
    "meshes = dm.dataset_args['meshes']\n",
    "model = get_lightning_module(config, dm)\n",
    "model.model.load_state_dict(_model_pretrained_weights)\n",
    "model.model.mode = \"testing\""
   ]
  },
  {
   "cell_type": "code",
   "execution_count": null,
   "metadata": {},
   "outputs": [],
   "source": [
    "s = dm.dataset[ids[0]]['s']\n",
    "s_hat = model(s)[0][0]\n",
    "mse(s, s_hat)"
   ]
  },
  {
   "cell_type": "markdown",
   "metadata": {},
   "source": [
    "# Display meshes for subjects"
   ]
  },
  {
   "cell_type": "code",
   "execution_count": 38,
   "metadata": {},
   "outputs": [
    {
     "data": {
      "application/vnd.jupyter.widget-view+json": {
       "model_id": "3f03d8f9f9c3463e9e24f382162d1089",
       "version_major": 2,
       "version_minor": 0
      },
      "text/plain": [
       "interactive(children=(Select(description='id', options=('4705339', '3040882', '2653145', '4041510', '4793598',…"
      ]
     },
     "metadata": {},
     "output_type": "display_data"
    }
   ],
   "source": [
    "pv.set_plot_theme(\"document\")\n",
    "\n",
    "faces, _ = pkl.load(open(\"data/cardio/faces_and_downsampling_mtx_frac_0.1_LV.pkl\", \"rb\")).values()\n",
    "faces = np.c_[np.ones(faces.shape[0]) * 3, faces].astype(int)\n",
    "\n",
    "color_palette = list(pv.colors.color_names.values())\n",
    "random.shuffle(color_palette)\n",
    "\n",
    "\n",
    "def f(id):                \n",
    "    pl = pv.Plotter(notebook=True, off_screen=False, polygon_smoothing=False)\n",
    "    mesh = meshes[id]\n",
    "    mesh = pv.PolyData(mesh, faces)    \n",
    "    pl.add_mesh(mesh, show_edges=False, point_size=1.5, color=color_palette[0], opacity=0.5)\n",
    "    pl.show(interactive=False, interactive_update=False)\n",
    "    \n",
    "interact(f, \n",
    "  id=widgets.Select(options=ids)\n",
    "  #rotated=widgets.ToggleButton(),\n",
    "  #traslated=widgets.ToggleButton()\n",
    ");"
   ]
  },
  {
   "cell_type": "markdown",
   "metadata": {},
   "source": [
    "## Generate synthetic shapes"
   ]
  },
  {
   "cell_type": "code",
   "execution_count": 17,
   "metadata": {},
   "outputs": [],
   "source": [
    "#def apply_deformation(, spherical_coords, amplitude_lm):\n",
    "#    \n",
    "#    deformed_sphere = sphere\n",
    "#    \n",
    "#    coefs = np.ones(spherical_coords.shape[0])\n",
    "#    \n",
    "#    for l, m in amplitude_lm:        \n",
    "#        coefs += amplitude_lm[l, m] * Y_lm[l,m]\n",
    "#                \n",
    "#    deformed_sphere.vertices = np.multiply(\n",
    "#        deformed_sphere.vertices, np.kron(np.ones((3, 1)), coefs).transpose()\n",
    "#    )\n",
    "#    \n",
    "#    return deformed_sphere\n",
    "\n"
   ]
  },
  {
   "cell_type": "code",
   "execution_count": 19,
   "metadata": {},
   "outputs": [],
   "source": [
    "z_df = pd.read_csv(f\"{CARDIAC_COMA_REPO}/mlruns/{experiment_id}/{run_id}/artifacts/output/latent_vector.csv\")\n",
    "z_mean = z_df[z_df.columns[z_df.columns.str.startswith(\"z\")]].mean()\n",
    "z_std = z_df[z_df.columns[z_df.columns.str.startswith(\"z\")]].std()"
   ]
  },
  {
   "cell_type": "code",
   "execution_count": 20,
   "metadata": {},
   "outputs": [],
   "source": [
    "pv.set_plot_theme(\"document\")\n",
    "\n",
    "faces, _ = pkl.load(open(\"data/cardio/faces_and_downsampling_mtx_frac_0.1_LV.pkl\", \"rb\")).values()\n",
    "faces = np.c_[np.ones(faces.shape[0]) * 3, faces].astype(int)\n",
    "\n",
    "color_palette = list(pv.colors.color_names.values())\n",
    "random.shuffle(color_palette)\n",
    "\n",
    "def get_coef_as_string(n):\n",
    "    return \"z\" + str(n).zfill(3)"
   ]
  },
  {
   "cell_type": "code",
   "execution_count": 21,
   "metadata": {},
   "outputs": [],
   "source": [
    "def f(**kwargs):\n",
    "\n",
    "    coefs = np.array([kwargs[lm] for lm in kwargs])\n",
    "    z = z_mean + coefs * np.array(z_std)\n",
    "    z = torch.Tensor(z)\n",
    "    with torch.no_grad():\n",
    "        point_cloud = model.model.decoder(z).detach().numpy()[0]\n",
    "    # spherical_coords = appendSpherical_np(sphere.vertices)[:,3:]\n",
    "    # deformed_sphere = apply_deformation(sphere, spherical_coords, coefs)\n",
    "                \n",
    "    mesh = pv.PolyData(point_cloud, faces)\n",
    "    plotter = pv.Plotter(notebook=True, off_screen=False, polygon_smoothing=False)\n",
    "    plotter.add_mesh(mesh, show_edges=False, point_size=1.5, color=color_palette[0], opacity=0.5)\n",
    "    plotter.show(interactive=False, interactive_update=False)"
   ]
  },
  {
   "cell_type": "code",
   "execution_count": 22,
   "metadata": {},
   "outputs": [
    {
     "data": {
      "application/vnd.jupyter.widget-view+json": {
       "model_id": "09b1e21dc5f541979859fc9fed2a2c72",
       "version_major": 2,
       "version_minor": 0
      },
      "text/plain": [
       "interactive(children=(FloatSlider(value=0.0, description='z000', max=3.0, min=-3.0), FloatSlider(value=0.0, de…"
      ]
     },
     "metadata": {},
     "output_type": "display_data"
    }
   ],
   "source": [
    "coefs = {get_coef_as_string(n): widgets.FloatSlider(min=-3, max=3) for n in range(8)}\n",
    "interact(f, **coefs);"
   ]
  },
  {
   "cell_type": "code",
   "execution_count": null,
   "metadata": {},
   "outputs": [],
   "source": []
  }
 ],
 "metadata": {
  "kernelspec": {
   "display_name": "cardio",
   "language": "python",
   "name": "cardio"
  },
  "language_info": {
   "codemirror_mode": {
    "name": "ipython",
    "version": 3
   },
   "file_extension": ".py",
   "mimetype": "text/x-python",
   "name": "python",
   "nbconvert_exporter": "python",
   "pygments_lexer": "ipython3",
   "version": "3.9.12"
  }
 },
 "nbformat": 4,
 "nbformat_minor": 4
}
