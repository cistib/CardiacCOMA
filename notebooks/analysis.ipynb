{
 "cells": [
  {
   "cell_type": "markdown",
   "metadata": {},
   "source": [
    "Set path to where `mlruns` directory is located (usually, the `CardiacCOMA` repository)"
   ]
  },
  {
   "cell_type": "code",
   "execution_count": 1,
   "metadata": {},
   "outputs": [],
   "source": [
    "CARDIAC_COMA_REPO = \"/home/rodrigo/CISTIB/repos/CardiacCOMA/\""
   ]
  },
  {
   "cell_type": "code",
   "execution_count": 59,
   "metadata": {
    "tags": []
   },
   "outputs": [],
   "source": [
    "import mlflow\n",
    "import os, sys\n",
    "\n",
    "import torch\n",
    "import torch.nn.functional as F\n",
    "\n",
    "import os; os.chdir(CARDIAC_COMA_REPO)\n",
    "from config.load_config import load_yaml_config, to_dict\n",
    "\n",
    "import ipywidgets as widgets\n",
    "from ipywidgets import interact\n",
    "from IPython.display import Image\n",
    "from mlflow.tracking import MlflowClient\n",
    "\n",
    "import pickle as pkl\n",
    "import pytorch_lightning as pl\n",
    "\n",
    "from argparse import Namespace\n",
    "import matplotlib.pyplot as plt\n",
    "\n",
    "#import surgeon_pytorch\n",
    "#from surgeon_pytorch import Inspect, get_layers\n",
    "\n",
    "import numpy as np\n",
    "from IPython import embed\n",
    "sys.path.insert(0, '..')\n",
    "\n",
    "import model.Model3D\n",
    "from utils.helpers import get_coma_args, get_lightning_module, get_datamodule\n",
    "from copy import deepcopy\n",
    "from pprint import pprint"
   ]
  },
  {
   "cell_type": "code",
   "execution_count": 3,
   "metadata": {
    "jupyter": {
     "source_hidden": true
    },
    "tags": []
   },
   "outputs": [],
   "source": [
    "TRACKING_URI = f\"file://{CARDIAC_COMA_REPO}/mlruns\"\n",
    "mlflow.set_tracking_uri(TRACKING_URI)"
   ]
  },
  {
   "cell_type": "markdown",
   "metadata": {},
   "source": [
    "# Select MLflow experiment"
   ]
  },
  {
   "cell_type": "code",
   "execution_count": 4,
   "metadata": {
    "jupyter": {
     "source_hidden": true
    },
    "tags": []
   },
   "outputs": [
    {
     "data": {
      "application/vnd.jupyter.widget-view+json": {
       "model_id": "2f077ddc71e74a36993cbda4c4af8338",
       "version_major": 2,
       "version_minor": 0
      },
      "text/plain": [
       "Select(index=1, options=('Cardiac - ED', 'Synthetic data', 'Default'), value='Synthetic data')"
      ]
     },
     "metadata": {},
     "output_type": "display_data"
    }
   ],
   "source": [
    "options = [exp.name for exp in mlflow.list_experiments()]\n",
    "\n",
    "experiment_w = widgets.Select(\n",
    "    options=options,\n",
    "    value=options[1]\n",
    ")\n",
    "display(experiment_w)"
   ]
  },
  {
   "cell_type": "markdown",
   "metadata": {},
   "source": [
    "Retrieve run data from MLflow"
   ]
  },
  {
   "cell_type": "code",
   "execution_count": 51,
   "metadata": {},
   "outputs": [
    {
     "data": {
      "text/html": [
       "<div>\n",
       "<style scoped>\n",
       "    .dataframe tbody tr th:only-of-type {\n",
       "        vertical-align: middle;\n",
       "    }\n",
       "\n",
       "    .dataframe tbody tr th {\n",
       "        vertical-align: top;\n",
       "    }\n",
       "\n",
       "    .dataframe thead th {\n",
       "        text-align: right;\n",
       "    }\n",
       "</style>\n",
       "<table border=\"1\" class=\"dataframe\">\n",
       "  <thead>\n",
       "    <tr style=\"text-align: right;\">\n",
       "      <th></th>\n",
       "      <th></th>\n",
       "      <th>status</th>\n",
       "      <th>artifact_uri</th>\n",
       "      <th>start_time</th>\n",
       "      <th>end_time</th>\n",
       "      <th>metrics.loss</th>\n",
       "      <th>metrics.test_loss</th>\n",
       "      <th>metrics.recon_loss</th>\n",
       "      <th>metrics.training_loss</th>\n",
       "      <th>metrics.test_recon_loss</th>\n",
       "      <th>metrics.val_loss</th>\n",
       "      <th>...</th>\n",
       "      <th>params.monitor</th>\n",
       "      <th>params.min_delta</th>\n",
       "      <th>params.convolution_type</th>\n",
       "      <th>params.epochs</th>\n",
       "      <th>tags.mlflow.user</th>\n",
       "      <th>tags.Mode</th>\n",
       "      <th>tags.mlflow.source.git.commit</th>\n",
       "      <th>tags.mlflow.source.type</th>\n",
       "      <th>tags.mlflow.source.name</th>\n",
       "      <th>tags.mlflow.log-model.history</th>\n",
       "    </tr>\n",
       "    <tr>\n",
       "      <th>experiment_id</th>\n",
       "      <th>run_id</th>\n",
       "      <th></th>\n",
       "      <th></th>\n",
       "      <th></th>\n",
       "      <th></th>\n",
       "      <th></th>\n",
       "      <th></th>\n",
       "      <th></th>\n",
       "      <th></th>\n",
       "      <th></th>\n",
       "      <th></th>\n",
       "      <th></th>\n",
       "      <th></th>\n",
       "      <th></th>\n",
       "      <th></th>\n",
       "      <th></th>\n",
       "      <th></th>\n",
       "      <th></th>\n",
       "      <th></th>\n",
       "      <th></th>\n",
       "      <th></th>\n",
       "      <th></th>\n",
       "    </tr>\n",
       "  </thead>\n",
       "  <tbody>\n",
       "    <tr>\n",
       "      <th rowspan=\"5\" valign=\"top\">2</th>\n",
       "      <th>29d040d969394cd3b3c09a16790e3bdd</th>\n",
       "      <td>FINISHED</td>\n",
       "      <td>file:///home/rodrigo/CISTIB/repos/CardiacCOMA/...</td>\n",
       "      <td>2022-06-30 21:00:43.301000+00:00</td>\n",
       "      <td>2022-06-30 23:31:22.355000+00:00</td>\n",
       "      <td>497.427856</td>\n",
       "      <td>497.427856</td>\n",
       "      <td>497.427856</td>\n",
       "      <td>497.434357</td>\n",
       "      <td>497.427856</td>\n",
       "      <td>497.427856</td>\n",
       "      <td>...</td>\n",
       "      <td>val_loss</td>\n",
       "      <td>-0.0</td>\n",
       "      <td>Chebyshev</td>\n",
       "      <td>1000</td>\n",
       "      <td>scrb</td>\n",
       "      <td>testing</td>\n",
       "      <td>913e90992eb2e6f1a69e164eb7240d87fa228bc6</td>\n",
       "      <td>LOCAL</td>\n",
       "      <td>main.py</td>\n",
       "      <td>None</td>\n",
       "    </tr>\n",
       "    <tr>\n",
       "      <th>5a49839a2b474e548d1643bb98741d88</th>\n",
       "      <td>FINISHED</td>\n",
       "      <td>file:///home/rodrigo/CISTIB/repos/CardiacCOMA/...</td>\n",
       "      <td>2022-06-30 18:22:47.917000+00:00</td>\n",
       "      <td>2022-06-30 20:59:24.088000+00:00</td>\n",
       "      <td>497.988251</td>\n",
       "      <td>497.988251</td>\n",
       "      <td>497.988251</td>\n",
       "      <td>498.003265</td>\n",
       "      <td>497.988251</td>\n",
       "      <td>497.988220</td>\n",
       "      <td>...</td>\n",
       "      <td>val_loss</td>\n",
       "      <td>-0.0</td>\n",
       "      <td>Chebyshev</td>\n",
       "      <td>1000</td>\n",
       "      <td>scrb</td>\n",
       "      <td>testing</td>\n",
       "      <td>913e90992eb2e6f1a69e164eb7240d87fa228bc6</td>\n",
       "      <td>LOCAL</td>\n",
       "      <td>main.py</td>\n",
       "      <td>None</td>\n",
       "    </tr>\n",
       "    <tr>\n",
       "      <th>93aee9ef9a95401c875da1772154866b</th>\n",
       "      <td>FINISHED</td>\n",
       "      <td>file:///home/rodrigo/CISTIB/repos/CardiacCOMA/...</td>\n",
       "      <td>2022-06-30 15:35:33.312000+00:00</td>\n",
       "      <td>2022-06-30 18:21:25.677000+00:00</td>\n",
       "      <td>490.910797</td>\n",
       "      <td>490.910797</td>\n",
       "      <td>490.910797</td>\n",
       "      <td>490.916626</td>\n",
       "      <td>490.910797</td>\n",
       "      <td>490.910797</td>\n",
       "      <td>...</td>\n",
       "      <td>val_loss</td>\n",
       "      <td>-0.0</td>\n",
       "      <td>Chebyshev</td>\n",
       "      <td>1000</td>\n",
       "      <td>scrb</td>\n",
       "      <td>testing</td>\n",
       "      <td>913e90992eb2e6f1a69e164eb7240d87fa228bc6</td>\n",
       "      <td>LOCAL</td>\n",
       "      <td>main.py</td>\n",
       "      <td>[{\"run_id\": \"93aee9ef9a95401c875da1772154866b\"...</td>\n",
       "    </tr>\n",
       "    <tr>\n",
       "      <th>cb2ecda96b034689aa1bb7165164b22a</th>\n",
       "      <td>FINISHED</td>\n",
       "      <td>file:///home/rodrigo/CISTIB/repos/CardiacCOMA/...</td>\n",
       "      <td>2022-06-30 15:00:21.300000+00:00</td>\n",
       "      <td>2022-06-30 15:34:09.070000+00:00</td>\n",
       "      <td>478.635101</td>\n",
       "      <td>478.635101</td>\n",
       "      <td>478.635101</td>\n",
       "      <td>478.639282</td>\n",
       "      <td>478.635101</td>\n",
       "      <td>478.635071</td>\n",
       "      <td>...</td>\n",
       "      <td>val_loss</td>\n",
       "      <td>-0.0</td>\n",
       "      <td>Chebyshev</td>\n",
       "      <td>1000</td>\n",
       "      <td>scrb</td>\n",
       "      <td>testing</td>\n",
       "      <td>913e90992eb2e6f1a69e164eb7240d87fa228bc6</td>\n",
       "      <td>LOCAL</td>\n",
       "      <td>main.py</td>\n",
       "      <td>[{\"run_id\": \"cb2ecda96b034689aa1bb7165164b22a\"...</td>\n",
       "    </tr>\n",
       "    <tr>\n",
       "      <th>4fb99eff61af4a7da7d712271a6d4903</th>\n",
       "      <td>FINISHED</td>\n",
       "      <td>file:///home/rodrigo/CISTIB/repos/CardiacCOMA/...</td>\n",
       "      <td>2022-06-30 14:29:21.297000+00:00</td>\n",
       "      <td>2022-06-30 14:57:09.213000+00:00</td>\n",
       "      <td>494.526520</td>\n",
       "      <td>NaN</td>\n",
       "      <td>494.526520</td>\n",
       "      <td>494.503204</td>\n",
       "      <td>NaN</td>\n",
       "      <td>494.526520</td>\n",
       "      <td>...</td>\n",
       "      <td>val_loss</td>\n",
       "      <td>-0.0</td>\n",
       "      <td>Chebyshev</td>\n",
       "      <td>1000</td>\n",
       "      <td>scrb</td>\n",
       "      <td>training</td>\n",
       "      <td>913e90992eb2e6f1a69e164eb7240d87fa228bc6</td>\n",
       "      <td>LOCAL</td>\n",
       "      <td>main.py</td>\n",
       "      <td>None</td>\n",
       "    </tr>\n",
       "  </tbody>\n",
       "</table>\n",
       "<p>5 rows × 43 columns</p>\n",
       "</div>"
      ],
      "text/plain": [
       "                                                  status  \\\n",
       "experiment_id run_id                                       \n",
       "2             29d040d969394cd3b3c09a16790e3bdd  FINISHED   \n",
       "              5a49839a2b474e548d1643bb98741d88  FINISHED   \n",
       "              93aee9ef9a95401c875da1772154866b  FINISHED   \n",
       "              cb2ecda96b034689aa1bb7165164b22a  FINISHED   \n",
       "              4fb99eff61af4a7da7d712271a6d4903  FINISHED   \n",
       "\n",
       "                                                                                     artifact_uri  \\\n",
       "experiment_id run_id                                                                                \n",
       "2             29d040d969394cd3b3c09a16790e3bdd  file:///home/rodrigo/CISTIB/repos/CardiacCOMA/...   \n",
       "              5a49839a2b474e548d1643bb98741d88  file:///home/rodrigo/CISTIB/repos/CardiacCOMA/...   \n",
       "              93aee9ef9a95401c875da1772154866b  file:///home/rodrigo/CISTIB/repos/CardiacCOMA/...   \n",
       "              cb2ecda96b034689aa1bb7165164b22a  file:///home/rodrigo/CISTIB/repos/CardiacCOMA/...   \n",
       "              4fb99eff61af4a7da7d712271a6d4903  file:///home/rodrigo/CISTIB/repos/CardiacCOMA/...   \n",
       "\n",
       "                                                                     start_time  \\\n",
       "experiment_id run_id                                                              \n",
       "2             29d040d969394cd3b3c09a16790e3bdd 2022-06-30 21:00:43.301000+00:00   \n",
       "              5a49839a2b474e548d1643bb98741d88 2022-06-30 18:22:47.917000+00:00   \n",
       "              93aee9ef9a95401c875da1772154866b 2022-06-30 15:35:33.312000+00:00   \n",
       "              cb2ecda96b034689aa1bb7165164b22a 2022-06-30 15:00:21.300000+00:00   \n",
       "              4fb99eff61af4a7da7d712271a6d4903 2022-06-30 14:29:21.297000+00:00   \n",
       "\n",
       "                                                                       end_time  \\\n",
       "experiment_id run_id                                                              \n",
       "2             29d040d969394cd3b3c09a16790e3bdd 2022-06-30 23:31:22.355000+00:00   \n",
       "              5a49839a2b474e548d1643bb98741d88 2022-06-30 20:59:24.088000+00:00   \n",
       "              93aee9ef9a95401c875da1772154866b 2022-06-30 18:21:25.677000+00:00   \n",
       "              cb2ecda96b034689aa1bb7165164b22a 2022-06-30 15:34:09.070000+00:00   \n",
       "              4fb99eff61af4a7da7d712271a6d4903 2022-06-30 14:57:09.213000+00:00   \n",
       "\n",
       "                                                metrics.loss  \\\n",
       "experiment_id run_id                                           \n",
       "2             29d040d969394cd3b3c09a16790e3bdd    497.427856   \n",
       "              5a49839a2b474e548d1643bb98741d88    497.988251   \n",
       "              93aee9ef9a95401c875da1772154866b    490.910797   \n",
       "              cb2ecda96b034689aa1bb7165164b22a    478.635101   \n",
       "              4fb99eff61af4a7da7d712271a6d4903    494.526520   \n",
       "\n",
       "                                                metrics.test_loss  \\\n",
       "experiment_id run_id                                                \n",
       "2             29d040d969394cd3b3c09a16790e3bdd         497.427856   \n",
       "              5a49839a2b474e548d1643bb98741d88         497.988251   \n",
       "              93aee9ef9a95401c875da1772154866b         490.910797   \n",
       "              cb2ecda96b034689aa1bb7165164b22a         478.635101   \n",
       "              4fb99eff61af4a7da7d712271a6d4903                NaN   \n",
       "\n",
       "                                                metrics.recon_loss  \\\n",
       "experiment_id run_id                                                 \n",
       "2             29d040d969394cd3b3c09a16790e3bdd          497.427856   \n",
       "              5a49839a2b474e548d1643bb98741d88          497.988251   \n",
       "              93aee9ef9a95401c875da1772154866b          490.910797   \n",
       "              cb2ecda96b034689aa1bb7165164b22a          478.635101   \n",
       "              4fb99eff61af4a7da7d712271a6d4903          494.526520   \n",
       "\n",
       "                                                metrics.training_loss  \\\n",
       "experiment_id run_id                                                    \n",
       "2             29d040d969394cd3b3c09a16790e3bdd             497.434357   \n",
       "              5a49839a2b474e548d1643bb98741d88             498.003265   \n",
       "              93aee9ef9a95401c875da1772154866b             490.916626   \n",
       "              cb2ecda96b034689aa1bb7165164b22a             478.639282   \n",
       "              4fb99eff61af4a7da7d712271a6d4903             494.503204   \n",
       "\n",
       "                                                metrics.test_recon_loss  \\\n",
       "experiment_id run_id                                                      \n",
       "2             29d040d969394cd3b3c09a16790e3bdd               497.427856   \n",
       "              5a49839a2b474e548d1643bb98741d88               497.988251   \n",
       "              93aee9ef9a95401c875da1772154866b               490.910797   \n",
       "              cb2ecda96b034689aa1bb7165164b22a               478.635101   \n",
       "              4fb99eff61af4a7da7d712271a6d4903                      NaN   \n",
       "\n",
       "                                                metrics.val_loss  ...  \\\n",
       "experiment_id run_id                                              ...   \n",
       "2             29d040d969394cd3b3c09a16790e3bdd        497.427856  ...   \n",
       "              5a49839a2b474e548d1643bb98741d88        497.988220  ...   \n",
       "              93aee9ef9a95401c875da1772154866b        490.910797  ...   \n",
       "              cb2ecda96b034689aa1bb7165164b22a        478.635071  ...   \n",
       "              4fb99eff61af4a7da7d712271a6d4903        494.526520  ...   \n",
       "\n",
       "                                                params.monitor  \\\n",
       "experiment_id run_id                                             \n",
       "2             29d040d969394cd3b3c09a16790e3bdd        val_loss   \n",
       "              5a49839a2b474e548d1643bb98741d88        val_loss   \n",
       "              93aee9ef9a95401c875da1772154866b        val_loss   \n",
       "              cb2ecda96b034689aa1bb7165164b22a        val_loss   \n",
       "              4fb99eff61af4a7da7d712271a6d4903        val_loss   \n",
       "\n",
       "                                                params.min_delta  \\\n",
       "experiment_id run_id                                               \n",
       "2             29d040d969394cd3b3c09a16790e3bdd              -0.0   \n",
       "              5a49839a2b474e548d1643bb98741d88              -0.0   \n",
       "              93aee9ef9a95401c875da1772154866b              -0.0   \n",
       "              cb2ecda96b034689aa1bb7165164b22a              -0.0   \n",
       "              4fb99eff61af4a7da7d712271a6d4903              -0.0   \n",
       "\n",
       "                                                params.convolution_type  \\\n",
       "experiment_id run_id                                                      \n",
       "2             29d040d969394cd3b3c09a16790e3bdd                Chebyshev   \n",
       "              5a49839a2b474e548d1643bb98741d88                Chebyshev   \n",
       "              93aee9ef9a95401c875da1772154866b                Chebyshev   \n",
       "              cb2ecda96b034689aa1bb7165164b22a                Chebyshev   \n",
       "              4fb99eff61af4a7da7d712271a6d4903                Chebyshev   \n",
       "\n",
       "                                                params.epochs  \\\n",
       "experiment_id run_id                                            \n",
       "2             29d040d969394cd3b3c09a16790e3bdd           1000   \n",
       "              5a49839a2b474e548d1643bb98741d88           1000   \n",
       "              93aee9ef9a95401c875da1772154866b           1000   \n",
       "              cb2ecda96b034689aa1bb7165164b22a           1000   \n",
       "              4fb99eff61af4a7da7d712271a6d4903           1000   \n",
       "\n",
       "                                                tags.mlflow.user  tags.Mode  \\\n",
       "experiment_id run_id                                                          \n",
       "2             29d040d969394cd3b3c09a16790e3bdd              scrb    testing   \n",
       "              5a49839a2b474e548d1643bb98741d88              scrb    testing   \n",
       "              93aee9ef9a95401c875da1772154866b              scrb    testing   \n",
       "              cb2ecda96b034689aa1bb7165164b22a              scrb    testing   \n",
       "              4fb99eff61af4a7da7d712271a6d4903              scrb   training   \n",
       "\n",
       "                                                           tags.mlflow.source.git.commit  \\\n",
       "experiment_id run_id                                                                       \n",
       "2             29d040d969394cd3b3c09a16790e3bdd  913e90992eb2e6f1a69e164eb7240d87fa228bc6   \n",
       "              5a49839a2b474e548d1643bb98741d88  913e90992eb2e6f1a69e164eb7240d87fa228bc6   \n",
       "              93aee9ef9a95401c875da1772154866b  913e90992eb2e6f1a69e164eb7240d87fa228bc6   \n",
       "              cb2ecda96b034689aa1bb7165164b22a  913e90992eb2e6f1a69e164eb7240d87fa228bc6   \n",
       "              4fb99eff61af4a7da7d712271a6d4903  913e90992eb2e6f1a69e164eb7240d87fa228bc6   \n",
       "\n",
       "                                               tags.mlflow.source.type  \\\n",
       "experiment_id run_id                                                     \n",
       "2             29d040d969394cd3b3c09a16790e3bdd                   LOCAL   \n",
       "              5a49839a2b474e548d1643bb98741d88                   LOCAL   \n",
       "              93aee9ef9a95401c875da1772154866b                   LOCAL   \n",
       "              cb2ecda96b034689aa1bb7165164b22a                   LOCAL   \n",
       "              4fb99eff61af4a7da7d712271a6d4903                   LOCAL   \n",
       "\n",
       "                                               tags.mlflow.source.name  \\\n",
       "experiment_id run_id                                                     \n",
       "2             29d040d969394cd3b3c09a16790e3bdd                 main.py   \n",
       "              5a49839a2b474e548d1643bb98741d88                 main.py   \n",
       "              93aee9ef9a95401c875da1772154866b                 main.py   \n",
       "              cb2ecda96b034689aa1bb7165164b22a                 main.py   \n",
       "              4fb99eff61af4a7da7d712271a6d4903                 main.py   \n",
       "\n",
       "                                                                    tags.mlflow.log-model.history  \n",
       "experiment_id run_id                                                                               \n",
       "2             29d040d969394cd3b3c09a16790e3bdd                                               None  \n",
       "              5a49839a2b474e548d1643bb98741d88                                               None  \n",
       "              93aee9ef9a95401c875da1772154866b  [{\"run_id\": \"93aee9ef9a95401c875da1772154866b\"...  \n",
       "              cb2ecda96b034689aa1bb7165164b22a  [{\"run_id\": \"cb2ecda96b034689aa1bb7165164b22a\"...  \n",
       "              4fb99eff61af4a7da7d712271a6d4903                                               None  \n",
       "\n",
       "[5 rows x 43 columns]"
      ]
     },
     "execution_count": 51,
     "metadata": {},
     "output_type": "execute_result"
    }
   ],
   "source": [
    "# runs_list = mlflow.search_runs(experiment_ids=[exp_id], output_format=\"list\")\n",
    "exp_id = mlflow.get_experiment_by_name(experiment_w.value).experiment_id\n",
    "\n",
    "runs_df = mlflow.search_runs(experiment_ids=[exp_id],)\n",
    "\n",
    "# Keep only the runs that ended successfully\n",
    "runs_df = runs_df[runs_df.status == \"FINISHED\"].reset_index(drop=True)\n",
    "\n",
    "# Use experiment ID and run ID as indices\n",
    "runs_df = runs_df.set_index([\"experiment_id\", \"run_id\"])\n",
    "runs_df.head()"
   ]
  },
  {
   "cell_type": "markdown",
   "metadata": {},
   "source": [
    "Choose the run with the minimum `val_recon_loss` and load pretained weights."
   ]
  },
  {
   "cell_type": "code",
   "execution_count": 58,
   "metadata": {
    "tags": []
   },
   "outputs": [
    {
     "ename": "NotADirectoryError",
     "evalue": "[Errno 20] Not a directory: '/home/rodrigo/CISTIB/repos/CardiacCOMA/mlruns/2/958c33a02570470aaf7e085e8d3c0cad/artifacts/restored_model_checkpoint/epoch=999-step=19999.ckpt'",
     "output_type": "error",
     "traceback": [
      "\u001b[0;31m---------------------------------------------------------------------------\u001b[0m",
      "\u001b[0;31mNotADirectoryError\u001b[0m                        Traceback (most recent call last)",
      "Input \u001b[0;32mIn [58]\u001b[0m, in \u001b[0;36m<cell line: 7>\u001b[0;34m()\u001b[0m\n\u001b[1;32m      5\u001b[0m run_info \u001b[38;5;241m=\u001b[39m runs_df\u001b[38;5;241m.\u001b[39mloc[experiment_id, run_id]\u001b[38;5;241m.\u001b[39mto_dict()\n\u001b[1;32m      6\u001b[0m artifact_uri \u001b[38;5;241m=\u001b[39m run_info[\u001b[38;5;124m\"\u001b[39m\u001b[38;5;124martifact_uri\u001b[39m\u001b[38;5;124m\"\u001b[39m]\u001b[38;5;241m.\u001b[39mreplace(\u001b[38;5;124m\"\u001b[39m\u001b[38;5;124mfile://\u001b[39m\u001b[38;5;124m\"\u001b[39m, \u001b[38;5;124m\"\u001b[39m\u001b[38;5;124m\"\u001b[39m)\n\u001b[0;32m----> 7\u001b[0m chkpt_dir \u001b[38;5;241m=\u001b[39m os\u001b[38;5;241m.\u001b[39mpath\u001b[38;5;241m.\u001b[39mjoin(artifact_uri, \u001b[38;5;124m\"\u001b[39m\u001b[38;5;124mrestored_model_checkpoint\u001b[39m\u001b[38;5;124m\"\u001b[39m, \u001b[43mos\u001b[49m\u001b[38;5;241;43m.\u001b[39;49m\u001b[43mlistdir\u001b[49m\u001b[43m(\u001b[49m\u001b[43mchkpt_dir\u001b[49m\u001b[43m)\u001b[49m[\u001b[38;5;241m0\u001b[39m])\n\u001b[1;32m      9\u001b[0m model_pretrained_weights \u001b[38;5;241m=\u001b[39m torch\u001b[38;5;241m.\u001b[39mload(chkpt_file, map_location\u001b[38;5;241m=\u001b[39mtorch\u001b[38;5;241m.\u001b[39mdevice(\u001b[38;5;124m'\u001b[39m\u001b[38;5;124mcpu\u001b[39m\u001b[38;5;124m'\u001b[39m))[\u001b[38;5;124m\"\u001b[39m\u001b[38;5;124mstate_dict\u001b[39m\u001b[38;5;124m\"\u001b[39m]\n\u001b[1;32m     11\u001b[0m \u001b[38;5;66;03m# Remove \"model.\" prefix from state_dict's keys.\u001b[39;00m\n",
      "\u001b[0;31mNotADirectoryError\u001b[0m: [Errno 20] Not a directory: '/home/rodrigo/CISTIB/repos/CardiacCOMA/mlruns/2/958c33a02570470aaf7e085e8d3c0cad/artifacts/restored_model_checkpoint/epoch=999-step=19999.ckpt'"
     ]
    }
   ],
   "source": [
    "experiment_id, run_id = runs_df.index[runs_df[\"metrics.val_recon_loss\"].argmin()]\n",
    "\n",
    "# print(runs_df.loc[experiment_id, run_id].to_dict())\n",
    "\n",
    "run_info = runs_df.loc[experiment_id, run_id].to_dict()\n",
    "artifact_uri = run_info[\"artifact_uri\"].replace(\"file://\", \"\")\n",
    "chkpt_dir = os.path.join(artifact_uri, \"restored_model_checkpoint\", os.listdir(chkpt_dir)[0])\n",
    "\n",
    "model_pretrained_weights = torch.load(chkpt_file, map_location=torch.device('cpu'))[\"state_dict\"]\n",
    "\n",
    "# Remove \"model.\" prefix from state_dict's keys.\n",
    "_model_pretrained_weights = {k.replace(\"model.\", \"\"): v for k, v in model_pretrained_weights.items()}\n",
    "# print(_model_pretrained_weights)"
   ]
  },
  {
   "cell_type": "code",
   "execution_count": 54,
   "metadata": {},
   "outputs": [],
   "source": []
  },
  {
   "cell_type": "code",
   "execution_count": 61,
   "metadata": {
    "tags": []
   },
   "outputs": [
    {
     "name": "stdout",
     "output_type": "stream",
     "text": [
      "{'batch_size': 32,\n",
      " 'dataset': {'data_type': 'cardiac',\n",
      "             'filename': 'data/cardio/LV_meshes_at_ED_35k.pkl',\n",
      "             'preprocessing': {'procrustes': 'data/cardio/procrustes_transforms_35k.pkl'},\n",
      "             'template': 'data/cardio/faces.pkl'},\n",
      " 'loss': {'reconstruction': {'type': 'MSE', 'weight': 1},\n",
      "          'regularization': {'type': 'KL', 'weight': 0.0}},\n",
      " 'mlflow': {'artifact_location': None,\n",
      "            'experiment_name': 'Synthetic data',\n",
      "            'run_name': None,\n",
      "            'tracking_uri': None},\n",
      " 'network_architecture': {'activation_function': ['ReLU',\n",
      "                                                  'ReLU',\n",
      "                                                  'ReLU',\n",
      "                                                  'ReLU'],\n",
      "                          'convolution': {'channels_dec': [16, 32, 64, 128],\n",
      "                                          'channels_enc': [16, 32, 64, 128],\n",
      "                                          'parameters': {'polynomial_degree': [6,\n",
      "                                                                               6,\n",
      "                                                                               6,\n",
      "                                                                               6]},\n",
      "                                          'type': 'Chebyshev'},\n",
      "                          'latent_dim': 32,\n",
      "                          'n_features': 3,\n",
      "                          'pooling': {'parameters': {'downsampling_factors': [2,\n",
      "                                                                              2,\n",
      "                                                                              2,\n",
      "                                                                              2]},\n",
      "                                      'type': 'quadric'}},\n",
      " 'only_decoder': None,\n",
      " 'only_encoder': None,\n",
      " 'optimizer': {'algorithm': 'Adam',\n",
      "               'parameters': {'betas': [0.5, 0.99],\n",
      "                              'lr': 1e-06,\n",
      "                              'weight_decay': 0.0005}},\n",
      " 'sample_sizes': [100, 100, 100],\n",
      " 'seed': None}\n"
     ]
    }
   ],
   "source": [
    "def overwrite_ref_config(ref_config, run_info):\n",
    "    \n",
    "    '''\n",
    "    This is a workaround for adjusting the configuration of those runs that didn't have a YAML configuration file logged as an artifact.\n",
    "    '''\n",
    "    \n",
    "    config = deepcopy(ref_config)\n",
    "    config.network_architecture.latent_dim = int(run_info[\"params.latent_dim\"])\n",
    "    config.loss.regularization.weight = float(run_info[\"params.w_kl\"])\n",
    "    config.optimizer.parameters.lr = float(run_info[\"params.lr\"])\n",
    "    config.sample_sizes = [100, 100, 100]\n",
    "    \n",
    "    return config\n",
    "\n",
    "\n",
    "ref_config = load_yaml_config(\"config_files/config.yaml\")\n",
    "config = overwrite_ref_config(ref_config, run_info)\n",
    "pprint(to_dict(config))"
   ]
  },
  {
   "cell_type": "code",
   "execution_count": 8,
   "metadata": {},
   "outputs": [],
   "source": [
    "client = MlflowClient()\n",
    "local_dir = \"/tmp/artifact_downloads\"\n",
    "\n",
    "if not os.path.exists(local_dir):\n",
    "    os.mkdir(local_dir)"
   ]
  },
  {
   "cell_type": "code",
   "execution_count": 9,
   "metadata": {},
   "outputs": [],
   "source": [
    "# client._tracking_client.list_artifacts(\n",
    "#     runs_df.run_id[2], 'restored_model_checkp# oint'\n",
    "# )"
   ]
  },
  {
   "cell_type": "code",
   "execution_count": 20,
   "metadata": {},
   "outputs": [],
   "source": [
    "dm = get_datamodule(config, perform_setup=True)"
   ]
  },
  {
   "cell_type": "code",
   "execution_count": 11,
   "metadata": {
    "collapsed": true,
    "jupyter": {
     "outputs_hidden": true
    },
    "tags": []
   },
   "outputs": [
    {
     "name": "stdout",
     "output_type": "stream",
     "text": [
      "0.07521533966064453: 5200\n",
      "0.39846229553222656: 5100\n",
      "0.40227174758911133: 5000\n",
      "0.3949596881866455: 4900\n",
      "0.4393291473388672: 4800\n",
      "0.4231417179107666: 4700\n",
      "0.39465951919555664: 4600\n",
      "0.3945751190185547: 4500\n",
      "0.6326649188995361: 4400\n",
      "0.3608686923980713: 4300\n",
      "0.34975743293762207: 4200\n",
      "0.35294628143310547: 4100\n",
      "0.35439634323120117: 4000\n",
      "0.3509514331817627: 3900\n",
      "0.35549402236938477: 3800\n",
      "0.34957265853881836: 3700\n",
      "0.35103297233581543: 3600\n",
      "0.3348579406738281: 3500\n",
      "0.33591556549072266: 3400\n",
      "0.3592402935028076: 3300\n",
      "0.33854174613952637: 3200\n",
      "0.3330986499786377: 3100\n",
      "0.4913671016693115: 3000\n",
      "0.34344053268432617: 2900\n",
      "0.3398416042327881: 2800\n",
      "0.31565165519714355: 2700\n",
      "0.019639968872070312: 2600\n",
      "0.19584870338439941: 2500\n",
      "0.19938421249389648: 2400\n",
      "0.19098162651062012: 2300\n",
      "0.19422602653503418: 2200\n",
      "0.183305025100708: 2100\n",
      "0.1861741542816162: 2000\n",
      "0.17617464065551758: 1900\n",
      "0.17900395393371582: 1800\n",
      "0.1668233871459961: 1700\n",
      "0.17716646194458008: 1600\n",
      "0.1634671688079834: 1500\n",
      "0.17041325569152832: 1400\n",
      "0.005463123321533203: 1300\n",
      "0.10486507415771484: 1200\n",
      "0.09859585762023926: 1100\n",
      "0.10087203979492188: 1000\n",
      "0.0979316234588623: 900\n",
      "0.09536385536193848: 800\n",
      "0.09246349334716797: 700\n",
      "0.029250383377075195: 600\n",
      "0.053246259689331055: 500\n",
      "0.05516242980957031: 400\n"
     ]
    }
   ],
   "source": [
    "model = get_lightning_module(config, dm)"
   ]
  },
  {
   "cell_type": "code",
   "execution_count": 18,
   "metadata": {
    "tags": []
   },
   "outputs": [],
   "source": []
  },
  {
   "cell_type": "code",
   "execution_count": 19,
   "metadata": {
    "collapsed": true,
    "jupyter": {
     "outputs_hidden": true
    },
    "tags": []
   },
   "outputs": [
    {
     "name": "stdout",
     "output_type": "stream",
     "text": [
      "encoder.layers.layer_0.graph_conv.lins.0.\n",
      "encoder.layers.layer_0.graph_conv.lins.1.\n",
      "encoder.layers.layer_0.graph_conv.lins.2.\n",
      "encoder.layers.layer_0.graph_conv.lins.3.\n",
      "encoder.layers.layer_0.graph_conv.lins.4.\n",
      "encoder.layers.layer_0.graph_conv.lins.5.\n",
      "encoder.layers.layer_1.graph_conv.lins.0.\n",
      "encoder.layers.layer_1.graph_conv.lins.1.\n",
      "encoder.layers.layer_1.graph_conv.lins.2.\n",
      "encoder.layers.layer_1.graph_conv.lins.3.\n",
      "encoder.layers.layer_1.graph_conv.lins.4.\n",
      "encoder.layers.layer_1.graph_conv.lins.5.\n",
      "encoder.layers.layer_2.graph_conv.lins.0.\n",
      "encoder.layers.layer_2.graph_conv.lins.1.\n",
      "encoder.layers.layer_2.graph_conv.lins.2.\n",
      "encoder.layers.layer_2.graph_conv.lins.3.\n",
      "encoder.layers.layer_2.graph_conv.lins.4.\n",
      "encoder.layers.layer_2.graph_conv.lins.5.\n",
      "encoder.layers.layer_3.graph_conv.lins.0.\n",
      "encoder.layers.layer_3.graph_conv.lins.1.\n",
      "encoder.layers.layer_3.graph_conv.lins.2.\n",
      "encoder.layers.layer_3.graph_conv.lins.3.\n",
      "encoder.layers.layer_3.graph_conv.lins.4.\n",
      "encoder.layers.layer_3.graph_conv.lins.5.\n",
      "decoder.layers.layer_0.graph_conv.lins.0.\n",
      "decoder.layers.layer_0.graph_conv.lins.1.\n",
      "decoder.layers.layer_0.graph_conv.lins.2.\n",
      "decoder.layers.layer_0.graph_conv.lins.3.\n",
      "decoder.layers.layer_0.graph_conv.lins.4.\n",
      "decoder.layers.layer_0.graph_conv.lins.5.\n",
      "decoder.layers.layer_1.graph_conv.lins.0.\n",
      "decoder.layers.layer_1.graph_conv.lins.1.\n",
      "decoder.layers.layer_1.graph_conv.lins.2.\n",
      "decoder.layers.layer_1.graph_conv.lins.3.\n",
      "decoder.layers.layer_1.graph_conv.lins.4.\n",
      "decoder.layers.layer_1.graph_conv.lins.5.\n",
      "decoder.layers.layer_2.graph_conv.lins.0.\n",
      "decoder.layers.layer_2.graph_conv.lins.1.\n",
      "decoder.layers.layer_2.graph_conv.lins.2.\n",
      "decoder.layers.layer_2.graph_conv.lins.3.\n",
      "decoder.layers.layer_2.graph_conv.lins.4.\n",
      "decoder.layers.layer_2.graph_conv.lins.5.\n",
      "decoder.layers.layer_3.graph_conv.lins.0.\n",
      "decoder.layers.layer_3.graph_conv.lins.1.\n",
      "decoder.layers.layer_3.graph_conv.lins.2.\n",
      "decoder.layers.layer_3.graph_conv.lins.3.\n",
      "decoder.layers.layer_3.graph_conv.lins.4.\n",
      "decoder.layers.layer_3.graph_conv.lins.5.\n"
     ]
    },
    {
     "data": {
      "text/plain": [
       "<All keys matched successfully>"
      ]
     },
     "execution_count": 19,
     "metadata": {},
     "output_type": "execute_result"
    }
   ],
   "source": [
    "model.model.load_state_dict(_model_pretrained_weights)"
   ]
  },
  {
   "cell_type": "code",
   "execution_count": 22,
   "metadata": {},
   "outputs": [
    {
     "data": {
      "text/plain": [
       "{'s': tensor([[ 25.4802,   3.4458,  27.2371],\n",
       "         [ 11.6291,   2.7515, -53.7377],\n",
       "         [ 30.5974, -12.0060,  21.6333],\n",
       "         ...,\n",
       "         [-25.9343,  -0.9732,   6.9544],\n",
       "         [ 31.9850,   7.3206,  -1.3706],\n",
       "         [  9.9849,  -1.8175, -53.0963]])}"
      ]
     },
     "execution_count": 22,
     "metadata": {},
     "output_type": "execute_result"
    }
   ],
   "source": []
  },
  {
   "cell_type": "code",
   "execution_count": 48,
   "metadata": {},
   "outputs": [
    {
     "data": {
      "text/plain": [
       "tensor([[ 29.6958,   4.6812,  32.1512],\n",
       "        [ 10.8751,   1.3605, -57.2060],\n",
       "        [ 35.7236, -13.2848,  24.5868],\n",
       "        ...,\n",
       "        [-30.6115,  -0.9908,   6.7875],\n",
       "        [ 38.8894,   8.9288,  -1.2236],\n",
       "        [  9.0511,  -4.0243, -57.1594]])"
      ]
     },
     "execution_count": 48,
     "metadata": {},
     "output_type": "execute_result"
    }
   ],
   "source": [
    "dm.dataset[1]['s']"
   ]
  },
  {
   "cell_type": "code",
   "execution_count": 34,
   "metadata": {},
   "outputs": [],
   "source": [
    "s_hat = model(s)[0][0]"
   ]
  },
  {
   "cell_type": "code",
   "execution_count": 37,
   "metadata": {},
   "outputs": [],
   "source": [
    "def mse(s1, s2=None):\n",
    "    if s2 is None:\n",
    "        s2 = torch.zeros_like(s1)\n",
    "    return ((s1-s2)**2).sum(-1).mean(-1)"
   ]
  },
  {
   "cell_type": "code",
   "execution_count": 38,
   "metadata": {},
   "outputs": [
    {
     "data": {
      "text/plain": [
       "tensor(83.7731, grad_fn=<MeanBackward1>)"
      ]
     },
     "execution_count": 38,
     "metadata": {},
     "output_type": "execute_result"
    }
   ],
   "source": [
    "mse(s, s_hat)"
   ]
  }
 ],
 "metadata": {
  "kernelspec": {
   "display_name": "cardio",
   "language": "python",
   "name": "cardio"
  },
  "language_info": {
   "codemirror_mode": {
    "name": "ipython",
    "version": 3
   },
   "file_extension": ".py",
   "mimetype": "text/x-python",
   "name": "python",
   "nbconvert_exporter": "python",
   "pygments_lexer": "ipython3",
   "version": "3.9.12"
  }
 },
 "nbformat": 4,
 "nbformat_minor": 4
}
