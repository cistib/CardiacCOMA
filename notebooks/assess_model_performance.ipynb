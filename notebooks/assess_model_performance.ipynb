{
 "cells": [
  {
   "cell_type": "code",
   "execution_count": 2,
   "metadata": {},
   "outputs": [],
   "source": [
    "import mlflow\n",
    "from mlflow.tracking import MlflowClient\n",
    "\n",
    "import os, sys\n",
    "\n",
    "import torch\n",
    "import torch.nn.functional as F\n",
    "\n",
    "HOME = os.environ[\"HOME\"]\n",
    "CARDIAC_COMA_REPO = f\"{HOME}/01_repos/CardiacCOMA/\"\n",
    "import os; os.chdir(CARDIAC_COMA_REPO)\n",
    "\n",
    "from config.cli_args import overwrite_config_items\n",
    "from config.load_config import load_yaml_config, to_dict\n",
    "\n",
    "import ipywidgets as widgets\n",
    "from ipywidgets import interact\n",
    "from IPython.display import Image\n",
    "\n",
    "import pandas as pd\n",
    "import shlex\n",
    "from subprocess import check_output\n",
    "\n",
    "import pickle as pkl\n",
    "import pytorch_lightning as pl\n",
    "\n",
    "from argparse import Namespace\n",
    "import matplotlib.pyplot as plt\n",
    "\n",
    "#import surgeon_pytorch\n",
    "#from surgeon_pytorch import Inspect, get_layers\n",
    "\n",
    "import numpy as np\n",
    "import pandas as pd\n",
    "from IPython import embed\n",
    "sys.path.insert(0, '..')\n",
    "\n",
    "# import model.Model3D\n",
    "# from utils.helpers import get_coma_args, get_lightning_module, get_datamodule\n",
    "from copy import deepcopy\n",
    "from pprint import pprint\n",
    "\n",
    "from typing import List\n",
    "from tqdm import tqdm\n",
    "\n",
    "import pandas as pd\n",
    "\n",
    "import pyvista as pv\n",
    "from ipywidgets import interact, interactive, fixed, interact_manual"
   ]
  },
  {
   "cell_type": "code",
   "execution_count": 3,
   "metadata": {},
   "outputs": [],
   "source": [
    "from utils.helpers import get_datamodule, get_lightning_module"
   ]
  },
  {
   "cell_type": "code",
   "execution_count": 4,
   "metadata": {},
   "outputs": [],
   "source": [
    "from utils.mlflow_helpers import get_model_pretrained_weights"
   ]
  },
  {
   "cell_type": "code",
   "execution_count": 5,
   "metadata": {},
   "outputs": [],
   "source": [
    "CARDIAC_COMA_REPO = \"/home/rodrigo/01_repos/CardiacCOMA/\"\n",
    "import os; os.chdir(CARDIAC_COMA_REPO)"
   ]
  },
  {
   "cell_type": "code",
   "execution_count": 6,
   "metadata": {},
   "outputs": [],
   "source": [
    "def overwrite_ref_config(ref_config, run_info):\n",
    "    \n",
    "    '''\n",
    "    This is a workaround for adjusting the configuration of those runs that didn't have a YAML configuration file logged as an artifact.\n",
    "    '''\n",
    "    \n",
    "    config = deepcopy(ref_config)\n",
    "    config.network_architecture.latent_dim = int(run_info[\"params.latent_dim\"])\n",
    "    config.loss.regularization.weight = float(run_info[\"params.w_kl\"])\n",
    "    config.optimizer.parameters.lr = float(run_info[\"params.lr\"])\n",
    "    config.sample_sizes = [100, 100, 100, 100]\n",
    "    \n",
    "    return config\n"
   ]
  },
  {
   "cell_type": "code",
   "execution_count": 7,
   "metadata": {},
   "outputs": [],
   "source": [
    "home = os.environ[\"HOME\"]"
   ]
  },
  {
   "cell_type": "code",
   "execution_count": 8,
   "metadata": {},
   "outputs": [],
   "source": [
    "cardiac_gwas_repo = f\"{home}/01_repos/CardiacGWAS\"\n",
    "mlruns_dir = f\"{home}/01_repos/CardiacCOMA/mlruns\""
   ]
  },
  {
   "cell_type": "code",
   "execution_count": 9,
   "metadata": {},
   "outputs": [],
   "source": [
    "good_runs_df = pd.read_csv(f\"{cardiac_gwas_repo}/good_runs.csv\")"
   ]
  },
  {
   "cell_type": "code",
   "execution_count": 28,
   "metadata": {},
   "outputs": [
    {
     "data": {
      "application/vnd.jupyter.widget-view+json": {
       "model_id": "ed40b3d14c224acfbf7d6e29e8a5d696",
       "version_major": 2,
       "version_minor": 0
      },
      "text/plain": [
       "interactive(children=(Select(description='run_id', options=('b6a7eedfc0e84b8b9d1f099ed5f158c4', 'e6490cf8389f4…"
      ]
     },
     "metadata": {},
     "output_type": "display_data"
    }
   ],
   "source": [
    "run_w = widgets.Select(options=good_runs_df.run_id.to_list())\n",
    "\n",
    "@interact\n",
    "def load_model(run_id=run_w):\n",
    "    global _run_id, config\n",
    "    _run_id = run_id\n",
    "    config_file = f\"{mlruns_dir}/1/{run_id}/artifacts/config.yaml\"    \n",
    "    config = load_yaml_config(config_file)\n",
    "    config.sample_sizes = [100, 100, 100, 100]#.append(-1)\n",
    "    # pprint(to_dict(config))\n",
    "    return _run_id, config"
   ]
  },
  {
   "cell_type": "code",
   "execution_count": 29,
   "metadata": {},
   "outputs": [],
   "source": [
    "def get_model_pretrained_weights(exp_id, run_id):\n",
    "    \n",
    "    # run_info = runs_df.loc[experiment_id, run_id].to_dict()\n",
    "    chkpt_dir = f\"{CARDIAC_COMA_REPO}/mlruns/{exp_id}/{run_id}/checkpoints\"\n",
    "    \n",
    "   # run_info[\"artifact_uri\"].replace(\"file://\", \"\")   \n",
    " \n",
    "   # #TODO: modify this\n",
    "   # try:\n",
    "   #     chkpt_dir = os.path.join(artifact_uri, \"restored_model_checkpoint\")\n",
    "   #     os.listdir(chkpt_dir)\n",
    "   # except:\n",
    "   #     chkpt_dir = os.path.join(os.path.dirname(artifact_uri), \"checkpoints\")\n",
    "   # \n",
    "    chkpt_file = os.path.join(chkpt_dir, os.listdir(chkpt_dir)[0])\n",
    "    \n",
    "    model_pretrained_weights = torch.load(chkpt_file, map_location=torch.device('cpu'))[\"state_dict\"]\n",
    "    \n",
    "    # Remove \"model.\" prefix from state_dict's keys.\n",
    "    _model_pretrained_weights = {k.replace(\"model.\", \"\"): v for k, v in model_pretrained_weights.items()}\n",
    "    # print(_model_pretrained_weights)\n",
    "    return _model_pretrained_weights"
   ]
  },
  {
   "cell_type": "code",
   "execution_count": 31,
   "metadata": {},
   "outputs": [
    {
     "name": "stdout",
     "output_type": "stream",
     "text": [
      "[100, 100, 100, 100]\n"
     ]
    },
    {
     "data": {
      "text/plain": [
       "<All keys matched successfully>"
      ]
     },
     "execution_count": 31,
     "metadata": {},
     "output_type": "execute_result"
    }
   ],
   "source": [
    "# pl.utilities.seed.reset_seed() # seed_everything(seed=None)\n",
    "# pl.utilities.seed.seed_everything(seed=None)\n",
    "\n",
    "# config = overwrite_ref_config(ref_config, run_info)\n",
    "# pprint(to_dict(config))\n",
    "\n",
    "dm = get_datamodule(config, perform_setup=True)\n",
    "model = get_lightning_module(config, dm)\n",
    "\n",
    "exp_id = \"1\"\n",
    "weights = get_model_pretrained_weights(exp_id, _run_id)\n",
    "model.model.load_state_dict(weights)"
   ]
  },
  {
   "cell_type": "code",
   "execution_count": null,
   "metadata": {},
   "outputs": [],
   "source": [
    "s = dm.dataset[1]['s']\n",
    "s_hat = model(s)[0][0]\n",
    "mse(s, s_hat)"
   ]
  }
 ],
 "metadata": {
  "kernelspec": {
   "display_name": "Python 3 (ipykernel)",
   "language": "python",
   "name": "python3"
  },
  "language_info": {
   "codemirror_mode": {
    "name": "ipython",
    "version": 3
   },
   "file_extension": ".py",
   "mimetype": "text/x-python",
   "name": "python",
   "nbconvert_exporter": "python",
   "pygments_lexer": "ipython3",
   "version": "3.9.12"
  }
 },
 "nbformat": 4,
 "nbformat_minor": 2
}
